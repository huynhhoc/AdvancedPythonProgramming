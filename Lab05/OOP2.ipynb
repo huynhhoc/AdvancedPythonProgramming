{
  "nbformat": 4,
  "nbformat_minor": 0,
  "metadata": {
    "colab": {
      "name": "OOP2.ipynb",
      "provenance": [],
      "authorship_tag": "ABX9TyNjsI47QOOIP8Ft9mVdXjoH",
      "include_colab_link": true
    },
    "kernelspec": {
      "name": "python3",
      "display_name": "Python 3"
    },
    "language_info": {
      "name": "python"
    }
  },
  "cells": [
    {
      "cell_type": "markdown",
      "metadata": {
        "id": "view-in-github",
        "colab_type": "text"
      },
      "source": [
        "<a href=\"https://colab.research.google.com/github/huynhhoc/AdvancedPythonProgramming/blob/main/Lab05/OOP2.ipynb\" target=\"_parent\"><img src=\"https://colab.research.google.com/assets/colab-badge.svg\" alt=\"Open In Colab\"/></a>"
      ]
    },
    {
      "cell_type": "markdown",
      "metadata": {
        "id": "57_9ShKdJUdb"
      },
      "source": [
        "# Class Methods vs. Static Methods and Instance Methods"
      ]
    }
  ]
}