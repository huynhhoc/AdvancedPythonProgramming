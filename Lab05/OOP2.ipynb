{
  "nbformat": 4,
  "nbformat_minor": 0,
  "metadata": {
    "colab": {
      "name": "OOP2.ipynb",
      "provenance": [],
      "authorship_tag": "ABX9TyMFMbQzQgOaE9+F27BGCLtE",
      "include_colab_link": true
    },
    "kernelspec": {
      "name": "python3",
      "display_name": "Python 3"
    },
    "language_info": {
      "name": "python"
    }
  },
  "cells": [
    {
      "cell_type": "markdown",
      "metadata": {
        "id": "view-in-github",
        "colab_type": "text"
      },
      "source": [
        "<a href=\"https://colab.research.google.com/github/huynhhoc/AdvancedPythonProgramming/blob/main/Lab05/OOP2.ipynb\" target=\"_parent\"><img src=\"https://colab.research.google.com/assets/colab-badge.svg\" alt=\"Open In Colab\"/></a>"
      ]
    },
    {
      "cell_type": "markdown",
      "metadata": {
        "id": "57_9ShKdJUdb"
      },
      "source": [
        "# Class Methods vs. Static Methods and Instance Methods\n",
        "\n",
        "(https://www.python-course.eu/python3_class_and_instance_attributes.php)"
      ]
    },
    {
      "cell_type": "markdown",
      "metadata": {
        "id": "u4tjRNI1Jk5k"
      },
      "source": [
        ""
      ]
    },
    {
      "cell_type": "code",
      "metadata": {
        "id": "benduiBfJtvF",
        "outputId": "39b0637e-29c7-4254-98b2-f352438237ac",
        "colab": {
          "base_uri": "https://localhost:8080/"
        }
      },
      "source": [
        "class Pet:\n",
        "    _class_info = \"pet animals\"\n",
        "\n",
        "    def about(self):\n",
        "        print(\"This class is about \" + self._class_info + \"!\")   \n",
        "    \n",
        "\n",
        "class Dog(Pet):\n",
        "    _class_info = \"man's best friends\"\n",
        "\n",
        "class Cat(Pet):\n",
        "    _class_info = \"all kinds of cats\"\n",
        "\n",
        "p = Pet()\n",
        "p.about()\n",
        "d = Dog()\n",
        "d.about()\n",
        "c = Cat()\n",
        "c.about()"
      ],
      "execution_count": 1,
      "outputs": [
        {
          "output_type": "stream",
          "name": "stdout",
          "text": [
            "This class is about pet animals!\n",
            "This class is about man's best friends!\n",
            "This class is about all kinds of cats!\n"
          ]
        }
      ]
    },
    {
      "cell_type": "code",
      "metadata": {
        "id": "gO09vSnsJ5cT"
      },
      "source": [
        "class Pet:\n",
        "    _class_info = \"pet animals\"\n",
        "\n",
        "    @staticmethod\n",
        "    def about():\n",
        "        print(\"This class is about \" + Pet._class_info + \"!\")   \n",
        "    \n",
        "class Dog(Pet):\n",
        "    _class_info = \"man's best friends\"\n",
        "\n",
        "class Cat(Pet):\n",
        "    _class_info = \"all kinds of cats\""
      ],
      "execution_count": 2,
      "outputs": []
    },
    {
      "cell_type": "code",
      "metadata": {
        "id": "C8sG0aMzJ-UE",
        "outputId": "9579e5b3-2926-4dc3-9d77-3a8bcb1ba1c4",
        "colab": {
          "base_uri": "https://localhost:8080/"
        }
      },
      "source": [
        "Pet.about()\n",
        "Dog.about()\n",
        "Cat.about()"
      ],
      "execution_count": 3,
      "outputs": [
        {
          "output_type": "stream",
          "name": "stdout",
          "text": [
            "This class is about pet animals!\n",
            "This class is about pet animals!\n",
            "This class is about pet animals!\n"
          ]
        }
      ]
    },
    {
      "cell_type": "markdown",
      "metadata": {
        "id": "5Vat1dhuKKh8"
      },
      "source": [
        "**Note**: we have no way of differenciating between the class Pet and its subclasses Dog and Cat. The problem is that the method about does not know that it has been called via the Pet the Dog or the Cat class."
      ]
    },
    {
      "cell_type": "markdown",
      "metadata": {
        "id": "M4jkm-aSKMwd"
      },
      "source": [
        "`A classmethod is the solution to all our problems. We will decorate about with a classmethod decorator instead of a staticmethod decorator:`"
      ]
    },
    {
      "cell_type": "code",
      "metadata": {
        "id": "grcCnkX3KQrM",
        "outputId": "9c2ed030-564a-4002-8f45-f7469766f956",
        "colab": {
          "base_uri": "https://localhost:8080/"
        }
      },
      "source": [
        "class Pet:\n",
        "    _class_info = \"pet animals\"\n",
        "\n",
        "    @classmethod\n",
        "    def about(cls):\n",
        "        print(\"This class is about \" + cls._class_info + \"!\")   \n",
        "    \n",
        "\n",
        "class Dog(Pet):\n",
        "    _class_info = \"man's best friends\"\n",
        "\n",
        "class Cat(Pet):\n",
        "    _class_info = \"all kinds of cats\"\n",
        "\n",
        "Pet.about()\n",
        "Dog.about()\n",
        "Cat.about()"
      ],
      "execution_count": 4,
      "outputs": [
        {
          "output_type": "stream",
          "name": "stdout",
          "text": [
            "This class is about pet animals!\n",
            "This class is about man's best friends!\n",
            "This class is about all kinds of cats!\n"
          ]
        }
      ]
    },
    {
      "cell_type": "markdown",
      "metadata": {
        "id": "81gzBWFgKqbE"
      },
      "source": [
        "# @property"
      ]
    },
    {
      "cell_type": "code",
      "metadata": {
        "id": "-AKZtqhHKrws",
        "outputId": "f16653cc-f1eb-49fd-faf6-3855c1995eb2",
        "colab": {
          "base_uri": "https://localhost:8080/"
        }
      },
      "source": [
        "class Robot:\n",
        "\n",
        "    def __init__(self, name, build_year, lk = 0.5, lp = 0.5 ):\n",
        "        self.name = name\n",
        "        self.build_year = build_year\n",
        "        self.__potential_physical = lk\n",
        "        self.__potential_psychic = lp\n",
        "\n",
        "    def condition(self):\n",
        "        s = self.__potential_physical + self.__potential_psychic\n",
        "        if s <= -1:\n",
        "           return \"I feel miserable!\"\n",
        "        elif s <= 0:\n",
        "           return \"I feel bad!\"\n",
        "        elif s <= 0.5:\n",
        "           return \"Could be worse!\"\n",
        "        elif s <= 1:\n",
        "           return \"Seems to be okay!\"\n",
        "        else:\n",
        "           return \"Great!\" \n",
        "    @property\n",
        "    def condition1(self):\n",
        "      s = self.__potential_physical + self.__potential_psychic\n",
        "      if s <= -1:\n",
        "          return \"I feel miserable!\"\n",
        "      elif s <= 0:\n",
        "          return \"I feel bad!\"\n",
        "      elif s <= 0.5:\n",
        "          return \"Could be worse!\"\n",
        "      elif s <= 1:\n",
        "          return \"Seems to be okay!\"\n",
        "      else:\n",
        "          return \"Great!\" \n",
        "  \n",
        "if __name__ == \"__main__\":\n",
        "    x = Robot(\"Marvin\", 1979, 0.2, 0.4 )\n",
        "    y = Robot(\"Caliban\", 1993, -0.4, 0.3)\n",
        "    print(x.condition())\n",
        "    print(y.condition1)"
      ],
      "execution_count": 13,
      "outputs": [
        {
          "output_type": "stream",
          "name": "stdout",
          "text": [
            "Seems to be okay!\n",
            "I feel bad!\n"
          ]
        }
      ]
    }
  ]
}