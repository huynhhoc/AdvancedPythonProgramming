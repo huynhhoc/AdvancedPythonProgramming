{
  "nbformat": 4,
  "nbformat_minor": 0,
  "metadata": {
    "colab": {
      "name": "OOP_InheritancePolymorphism.ipynb",
      "provenance": [],
      "authorship_tag": "ABX9TyOCPY0xT8JLbcWrKxp5NeGU",
      "include_colab_link": true
    },
    "kernelspec": {
      "name": "python3",
      "display_name": "Python 3"
    },
    "language_info": {
      "name": "python"
    }
  },
  "cells": [
    {
      "cell_type": "markdown",
      "metadata": {
        "id": "view-in-github",
        "colab_type": "text"
      },
      "source": [
        "<a href=\"https://colab.research.google.com/github/huynhhoc/AdvancedPythonProgramming/blob/main/Lab05/OOP_InheritancePolymorphism.ipynb\" target=\"_parent\"><img src=\"https://colab.research.google.com/assets/colab-badge.svg\" alt=\"Open In Colab\"/></a>"
      ]
    },
    {
      "cell_type": "markdown",
      "metadata": {
        "id": "L-aaSRH2Ocdw"
      },
      "source": [
        "#Kế thừa - Đa hình (Inheritance - Polymorphism)"
      ]
    },
    {
      "cell_type": "markdown",
      "metadata": {
        "id": "5pJv0eL0O-Yz"
      },
      "source": [
        "**Inheritance** allows us to define a class that inherits all the methods and properties from another class.\n",
        "\n",
        "**Parent class** is the class being inherited from, also called base class.\n",
        "\n",
        "**Child class** is the class that inherits from another class, also called derived class."
      ]
    },
    {
      "cell_type": "markdown",
      "metadata": {
        "id": "trZSlVuYPe6Z"
      },
      "source": [
        "Tham khảo: https://www.w3schools.com/python/python_inheritance.asp"
      ]
    },
    {
      "cell_type": "code",
      "metadata": {
        "id": "APeZck7dObuP"
      },
      "source": [
        ""
      ],
      "execution_count": null,
      "outputs": []
    }
  ]
}