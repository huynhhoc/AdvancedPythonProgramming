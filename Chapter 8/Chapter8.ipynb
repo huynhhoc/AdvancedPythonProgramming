{
  "nbformat": 4,
  "nbformat_minor": 0,
  "metadata": {
    "colab": {
      "name": "Chapter8.ipynb",
      "provenance": [],
      "toc_visible": true,
      "authorship_tag": "ABX9TyNydxEiRheapIW8sm35mA92",
      "include_colab_link": true
    },
    "kernelspec": {
      "name": "python3",
      "display_name": "Python 3"
    },
    "language_info": {
      "name": "python"
    }
  },
  "cells": [
    {
      "cell_type": "markdown",
      "metadata": {
        "id": "view-in-github",
        "colab_type": "text"
      },
      "source": [
        "<a href=\"https://colab.research.google.com/github/huynhhoc/AdvancedPythonProgramming/blob/main/Chapter%208/Chapter8.ipynb\" target=\"_parent\"><img src=\"https://colab.research.google.com/assets/colab-badge.svg\" alt=\"Open In Colab\"/></a>"
      ]
    },
    {
      "cell_type": "markdown",
      "metadata": {
        "id": "YahXUm9arHXu"
      },
      "source": [
        "# urllib module"
      ]
    },
    {
      "cell_type": "markdown",
      "metadata": {
        "id": "pPrwzeyRrMCJ"
      },
      "source": [
        "**urllib module** provides a high-level interface for fetching data across the World Wide Web. In particular, the urlopen() function is similar to the built-in function open(), but accepts Universal Resource Locators (URLs) instead of filenames. Some restrictions apply — it can only open URLs for reading, and no seek operations are available (source: https://docs.python.org/2/library/urllib.html)"
      ]
    },
    {
      "cell_type": "markdown",
      "metadata": {
        "id": "3XHvumHGrS_V"
      },
      "source": [
        "# urlopen\n",
        "Open a network object denoted by a URL for reading. If the URL does not have a scheme identifier, or if it has file: as its scheme identifier, this opens a local file (without universal newlines); otherwise it opens a socket to a server somewhere on the network. If the connection cannot be made the IOError exception is raised. If all went well, a file-like object is returned. This supports the following methods: read(), readline(), readlines(), fileno(), close(), info(), getcode() and geturl()"
      ]
    },
    {
      "cell_type": "code",
      "metadata": {
        "id": "ytfElDTBZkCK",
        "colab": {
          "base_uri": "https://localhost:8080/"
        },
        "outputId": "43d95da9-a685-409a-e6d5-17e44145211f"
      },
      "source": [
        "#Used to make requests\n",
        "import urllib.request\n",
        "\n",
        "url_google = urllib.request.urlopen('https://www.google.com/')\n",
        "print(url_google.read())"
      ],
      "execution_count": 1,
      "outputs": [
        {
          "output_type": "stream",
          "text": [
            "b'<!doctype html><html itemscope=\"\" itemtype=\"http://schema.org/WebPage\" lang=\"en\"><head><meta content=\"Search the world\\'s information, including webpages, images, videos and more. Google has many special features to help you find exactly what you\\'re looking for.\" name=\"description\"><meta content=\"noodp\" name=\"robots\"><meta content=\"text/html; charset=UTF-8\" http-equiv=\"Content-Type\"><meta content=\"/images/branding/googleg/1x/googleg_standard_color_128dp.png\" itemprop=\"image\"><title>Google</title><script nonce=\"Vp+wIvtbGQgG33Civ1Ovng==\">(function(){window.google={kEI:\\'mFgjYc8JnePk2g_8vpCoCQ\\',kEXPI:\\'0,202343,569872,1,530320,56873,954,5104,207,4804,926,1390,383,246,5,1354,4936,315,1122515,1197699,584,89,328895,51224,16114,28684,17572,4859,1361,284,9006,3025,17584,4020,978,13228,2676,1171,4192,6434,1138,11582,1804,4517,2777,919,5081,889,704,1279,2212,531,148,1103,840,1983,214,4100,3514,606,2023,1777,520,14670,3227,2845,7,12354,5096,7540,336,5037,1483,1371,553,908,2,941,15324,432,3,346,1244,1,5445,148,11323,2652,4,1528,2304,1236,5803,74,1983,2626,2015,4067,7434,2110,1714,3050,2658,4243,3114,30,11412,2216,1592,713,638,37,1457,5586,3772,5993,1435,651,5173,2533,992,3102,20,3118,6,908,3,3541,1,5349,9361,1,1813,283,38,874,5994,1158,1306,9881,2331,769,18,1,1262,1344,371,2,3036,21,6155,627,4,32,4,5387,4,683,442,342,255,55,4,434,2500,1557,743,1275,1536,3042,2050,4523,2,1,2,2296,447,1142,1160,1286,79,5044,291,2377,2722,3708,2,835,3,123,4605,745,4635,585,628,2373,1,8,218,2,2080,1155,2144,238,1512,423,1122,4,806,190,2,2443,243,1140,1578,820,1585,344,549,1650,817,565,616,777,149,311,165,317,49,1216,85,1,811,39,2,4,901,8,164,484,59,49,51,488,528,184,1,3,798,1507,91,388,1078,1167,1160,1090,310,288,27,27,1618,1,3,373,134,277,155,3,9,503,312,568,640,207,992,1550,955,308,5587691,2031,226,220,115,31,5,1802739,4193459,519,2800697,882,444,1,2,80,1,1796,1,9,2553,1,748,141,795,563,1,4265,1,1,2,1331,4142,2609,155,17,13,72,139,4,2,20,2,169,13,19,46,5,39,96,548,29,2,2,1,2,1,2,2,7,4,1,2,2,2,2,2,2,353,513,186,1,1,158,3,2,2,2,2,2,4,2,3,3,269,230,2,4,1,1,3,44,6,23654567,299865,2879729,1161622,338,3,2414,448,2,88,470,77,406,9,2259,976,1243,5\\',kBL:\\'8pO8\\'};google.sn=\\'webhp\\';google.kHL=\\'en\\';})();(function(){\\nvar f=this||self;var h,k=[];function l(a){for(var b;a&&(!a.getAttribute||!(b=a.getAttribute(\"eid\")));)a=a.parentNode;return b||h}function m(a){for(var b=null;a&&(!a.getAttribute||!(b=a.getAttribute(\"leid\")));)a=a.parentNode;return b}\\nfunction n(a,b,c,d,g){var e=\"\";c||-1!==b.search(\"&ei=\")||(e=\"&ei=\"+l(d),-1===b.search(\"&lei=\")&&(d=m(d))&&(e+=\"&lei=\"+d));d=\"\";!c&&f._cshid&&-1===b.search(\"&cshid=\")&&\"slh\"!==a&&(d=\"&cshid=\"+f._cshid);c=c||\"/\"+(g||\"gen_204\")+\"?atyp=i&ct=\"+a+\"&cad=\"+b+e+\"&zx=\"+Date.now()+d;/^http:/i.test(c)&&\"https:\"===window.location.protocol&&(google.ml&&google.ml(Error(\"a\"),!1,{src:c,glmm:1}),c=\"\");return c};h=google.kEI;google.getEI=l;google.getLEI=m;google.ml=function(){return null};google.log=function(a,b,c,d,g){if(c=n(a,b,c,d,g)){a=new Image;var e=k.length;k[e]=a;a.onerror=a.onload=a.onabort=function(){delete k[e]};a.src=c}};google.logUrl=n;}).call(this);(function(){\\ngoogle.y={};google.sy=[];google.x=function(a,b){if(a)var c=a.id;else{do c=Math.random();while(google.y[c])}google.y[c]=[a,b];return!1};google.sx=function(a){google.sy.push(a)};google.lm=[];google.plm=function(a){google.lm.push.apply(google.lm,a)};google.lq=[];google.load=function(a,b,c){google.lq.push([[a],b,c])};google.loadAll=function(a,b){google.lq.push([a,b])};google.bx=!1;google.lx=function(){};}).call(this);google.f={};(function(){\\ndocument.documentElement.addEventListener(\"submit\",function(b){var a;if(a=b.target){var c=a.getAttribute(\"data-submitfalse\");a=\"1\"==c||\"q\"==c&&!a.elements.q.value?!0:!1}else a=!1;a&&(b.preventDefault(),b.stopPropagation())},!0);document.documentElement.addEventListener(\"click\",function(b){var a;a:{for(a=b.target;a&&a!=document.documentElement;a=a.parentElement)if(\"A\"==a.tagName){a=\"1\"==a.getAttribute(\"data-nohref\");break a}a=!1}a&&b.preventDefault()},!0);}).call(this);</script><style>#gbar,#guser{font-size:13px;padding-top:1px !important;}#gbar{height:22px}#guser{padding-bottom:7px !important;text-align:right}.gbh,.gbd{border-top:1px solid #c9d7f1;font-size:1px}.gbh{height:0;position:absolute;top:24px;width:100%}@media all{.gb1{height:22px;margin-right:.5em;vertical-align:top}#gbar{float:left}}a.gb1,a.gb4{text-decoration:underline !important}a.gb1,a.gb4{color:#00c !important}.gbi .gb4{color:#dd8e27 !important}.gbf .gb4{color:#900 !important}\\n</style><style>body,td,a,p,.h{font-family:arial,sans-serif}body{margin:0;overflow-y:scroll}#gog{padding:3px 8px 0}td{line-height:.8em}.gac_m td{line-height:17px}form{margin-bottom:20px}.h{color:#1558d6}em{font-weight:bold;font-style:normal}.lst{height:25px;width:496px}.gsfi,.lst{font:18px arial,sans-serif}.gsfs{font:17px arial,sans-serif}.ds{display:inline-box;display:inline-block;margin:3px 0 4px;margin-left:4px}input{font-family:inherit}body{background:#fff;color:#000}a{color:#4b11a8;text-decoration:none}a:hover,a:active{text-decoration:underline}.fl a{color:#1558d6}a:visited{color:#4b11a8}.sblc{padding-top:5px}.sblc a{display:block;margin:2px 0;margin-left:13px;font-size:11px}.lsbb{background:#f8f9fa;border:solid 1px;border-color:#dadce0 #70757a #70757a #dadce0;height:30px}.lsbb{display:block}#WqQANb a{display:inline-block;margin:0 12px}.lsb{background:url(/images/nav_logo229.png) 0 -261px repeat-x;border:none;color:#000;cursor:pointer;height:30px;margin:0;outline:0;font:15px arial,sans-serif;vertical-align:top}.lsb:active{background:#dadce0}.lst:focus{outline:none}</style><script nonce=\"Vp+wIvtbGQgG33Civ1Ovng==\"></script></head><body bgcolor=\"#fff\"><script nonce=\"Vp+wIvtbGQgG33Civ1Ovng==\">(function(){var src=\\'/images/nav_logo229.png\\';var iesg=false;document.body.onload = function(){window.n && window.n();if (document.images){new Image().src=src;}\\nif (!iesg){document.f&&document.f.q.focus();document.gbqf&&document.gbqf.q.focus();}\\n}\\n})();</script><div id=\"mngb\"><div id=gbar><nobr><b class=gb1>Search</b> <a class=gb1 href=\"https://www.google.com/imghp?hl=en&tab=wi\">Images</a> <a class=gb1 href=\"https://maps.google.com/maps?hl=en&tab=wl\">Maps</a> <a class=gb1 href=\"https://play.google.com/?hl=en&tab=w8\">Play</a> <a class=gb1 href=\"https://www.youtube.com/?gl=US&tab=w1\">YouTube</a> <a class=gb1 href=\"https://news.google.com/?tab=wn\">News</a> <a class=gb1 href=\"https://mail.google.com/mail/?tab=wm\">Gmail</a> <a class=gb1 href=\"https://drive.google.com/?tab=wo\">Drive</a> <a class=gb1 style=\"text-decoration:none\" href=\"https://www.google.com/intl/en/about/products?tab=wh\"><u>More</u> &raquo;</a></nobr></div><div id=guser width=100%><nobr><span id=gbn class=gbi></span><span id=gbf class=gbf></span><span id=gbe></span><a href=\"http://www.google.com/history/optout?hl=en\" class=gb4>Web History</a> | <a  href=\"/preferences?hl=en\" class=gb4>Settings</a> | <a target=_top id=gb_70 href=\"https://accounts.google.com/ServiceLogin?hl=en&passive=true&continue=https://www.google.com/&ec=GAZAAQ\" class=gb4>Sign in</a></nobr></div><div class=gbh style=left:0></div><div class=gbh style=right:0></div></div><center><br clear=\"all\" id=\"lgpd\"><div id=\"lga\"><img alt=\"Google\" height=\"92\" src=\"/images/branding/googlelogo/1x/googlelogo_white_background_color_272x92dp.png\" style=\"padding:28px 0 14px\" width=\"272\" id=\"hplogo\"><br><br></div><form action=\"/search\" name=\"f\"><table cellpadding=\"0\" cellspacing=\"0\"><tr valign=\"top\"><td width=\"25%\">&nbsp;</td><td align=\"center\" nowrap=\"\"><input name=\"ie\" value=\"ISO-8859-1\" type=\"hidden\"><input value=\"en\" name=\"hl\" type=\"hidden\"><input name=\"source\" type=\"hidden\" value=\"hp\"><input name=\"biw\" type=\"hidden\"><input name=\"bih\" type=\"hidden\"><div class=\"ds\" style=\"height:32px;margin:4px 0\"><input class=\"lst\" style=\"margin:0;padding:5px 8px 0 6px;vertical-align:top;color:#000\" autocomplete=\"off\" value=\"\" title=\"Google Search\" maxlength=\"2048\" name=\"q\" size=\"57\"></div><br style=\"line-height:0\"><span class=\"ds\"><span class=\"lsbb\"><input class=\"lsb\" value=\"Google Search\" name=\"btnG\" type=\"submit\"></span></span><span class=\"ds\"><span class=\"lsbb\"><input class=\"lsb\" id=\"tsuid1\" value=\"I\\'m Feeling Lucky\" name=\"btnI\" type=\"submit\"><script nonce=\"Vp+wIvtbGQgG33Civ1Ovng==\">(function(){var id=\\'tsuid1\\';document.getElementById(id).onclick = function(){if (this.form.q.value){this.checked = 1;if (this.form.iflsig)this.form.iflsig.disabled = false;}\\nelse top.location=\\'/doodles/\\';};})();</script><input value=\"AINFCbYAAAAAYSNmqA9BUKSc-gCRu21CAV1KXTuFg8fw\" name=\"iflsig\" type=\"hidden\"></span></span></td><td class=\"fl sblc\" align=\"left\" nowrap=\"\" width=\"25%\"><a href=\"/advanced_search?hl=en&amp;authuser=0\">Advanced search</a></td></tr></table><input id=\"gbv\" name=\"gbv\" type=\"hidden\" value=\"1\"><script nonce=\"Vp+wIvtbGQgG33Civ1Ovng==\">(function(){\\nvar a,b=\"1\";if(document&&document.getElementById)if(\"undefined\"!=typeof XMLHttpRequest)b=\"2\";else if(\"undefined\"!=typeof ActiveXObject){var c,d,e=[\"MSXML2.XMLHTTP.6.0\",\"MSXML2.XMLHTTP.3.0\",\"MSXML2.XMLHTTP\",\"Microsoft.XMLHTTP\"];for(c=0;d=e[c++];)try{new ActiveXObject(d),b=\"2\"}catch(h){}}a=b;if(\"2\"==a&&-1==location.search.indexOf(\"&gbv=2\")){var f=google.gbvu,g=document.getElementById(\"gbv\");g&&(g.value=a);f&&window.setTimeout(function(){location.href=f},0)};}).call(this);</script></form><div id=\"gac_scont\"></div><div style=\"font-size:83%;min-height:3.5em\"><br><div id=\"prm\"><style>.szppmdbYutt__middle-slot-promo{font-size:small;margin-bottom:32px}.szppmdbYutt__middle-slot-promo a.ZIeIlb{display:inline-block;text-decoration:none}.szppmdbYutt__middle-slot-promo img{border:none;margin-right:5px;vertical-align:middle}</style><div class=\"szppmdbYutt__middle-slot-promo\" data-ved=\"0ahUKEwjPtdW02cbyAhWdMVkFHXwfBJUQnIcBCAQ\"><img height=\"48\" src=\"https://www.google.com/images/hpp/logo-gsa-ios-color-3x-ios-512dp.png\" width=\"48\"><a class=\"NKcBbd\" href=\"https://www.google.com/url?q=https://www.google.com/search/howsearchworks/%3Futm_source%3DHPP%26utm_medium%3DOwned%26utm_campaign%3D2021q3hswhpp%26utm_content%3DEN_US&amp;source=hpp&amp;id=19025583&amp;ct=3&amp;usg=AFQjCNFksyi2EYaMJFPaLwssl9qDIFzXCQ&amp;sa=X&amp;ved=0ahUKEwjPtdW02cbyAhWdMVkFHXwfBJUQ8IcBCAU\" rel=\"nofollow\">Go behind the scenes to learn how Google Search works</a></div></div></div><span id=\"footer\"><div style=\"font-size:10pt\"><div style=\"margin:19px auto;text-align:center\" id=\"WqQANb\"><a href=\"/intl/en/ads/\">Advertising\\xa0Programs</a><a href=\"/services/\">Business Solutions</a><a href=\"/intl/en/about.html\">About Google</a></div></div><p style=\"font-size:8pt;color:#70757a\">&copy; 2021 - <a href=\"/intl/en/policies/privacy/\">Privacy</a> - <a href=\"/intl/en/policies/terms/\">Terms</a></p></span></center><script nonce=\"Vp+wIvtbGQgG33Civ1Ovng==\">(function(){window.google.cdo={height:757,width:1440};(function(){\\nvar a=window.innerWidth,b=window.innerHeight;if(!a||!b){var c=window.document,d=\"CSS1Compat\"==c.compatMode?c.documentElement:c.body;a=d.clientWidth;b=d.clientHeight}a&&b&&(a!=google.cdo.width||b!=google.cdo.height)&&google.log(\"\",\"\",\"/client_204?&atyp=i&biw=\"+a+\"&bih=\"+b+\"&ei=\"+google.kEI);}).call(this);})();</script> <script nonce=\"Vp+wIvtbGQgG33Civ1Ovng==\">(function(){google.xjs={ck:\\'\\',cs:\\'\\',excm:[]};})();</script>  <script nonce=\"Vp+wIvtbGQgG33Civ1Ovng==\">(function(){var u=\\'/xjs/_/js/k\\\\x3dxjs.hp.en_US.mANdiD4tMLU.O/am\\\\x3dAPgEmA/d\\\\x3d1/ed\\\\x3d1/rs\\\\x3dACT90oFtlqUZkkJHqB4VOIPUDMk1q9I5xw/m\\\\x3dsb_he,d\\';\\nvar e=this||self,f=function(a){return a};var g;var l=function(a,b){this.g=b===h?a:\"\"};l.prototype.toString=function(){return this.g+\"\"};var h={};function m(){var a=u;google.lx=function(){n(a);google.lx=function(){}};google.bx||google.lx()}\\nfunction n(a){google.timers&&google.timers.load&&google.tick&&google.tick(\"load\",\"xjsls\");var b=document;var c=\"SCRIPT\";\"application/xhtml+xml\"===b.contentType&&(c=c.toLowerCase());c=b.createElement(c);if(void 0===g){b=null;var k=e.trustedTypes;if(k&&k.createPolicy){try{b=k.createPolicy(\"goog#html\",{createHTML:f,createScript:f,createScriptURL:f})}catch(p){e.console&&e.console.error(p.message)}g=b}else g=b}a=(b=g)?b.createScriptURL(a):a;a=new l(a,h);c.src=a instanceof l&&a.constructor===l?a.g:\"type_error:TrustedResourceUrl\";var d;a=(c.ownerDocument&&c.ownerDocument.defaultView||window).document;(d=(a=null===(d=a.querySelector)||void 0===d?void 0:d.call(a,\"script[nonce]\"))?a.nonce||a.getAttribute(\"nonce\")||\"\":\"\")&&c.setAttribute(\"nonce\",d);document.body.appendChild(c);google.psa=!0};setTimeout(function(){m()},0);})();(function(){window.google.xjsu=\\'/xjs/_/js/k\\\\x3dxjs.hp.en_US.mANdiD4tMLU.O/am\\\\x3dAPgEmA/d\\\\x3d1/ed\\\\x3d1/rs\\\\x3dACT90oFtlqUZkkJHqB4VOIPUDMk1q9I5xw/m\\\\x3dsb_he,d\\';})();function _DumpException(e){throw e;}\\nfunction _F_installCss(c){}\\n(function(){google.jl={attn:false,blt:\\'none\\',chnk:0,dw:false,emtn:0,end:0,ine:false,lls:\\'default\\',pdt:0,rep:0,sif:true,snet:true,strt:0,ubm:false,uwp:true};})();(function(){var pmc=\\'{\\\\x22d\\\\x22:{},\\\\x22sb_he\\\\x22:{\\\\x22agen\\\\x22:true,\\\\x22cgen\\\\x22:true,\\\\x22client\\\\x22:\\\\x22heirloom-hp\\\\x22,\\\\x22dh\\\\x22:true,\\\\x22dhqt\\\\x22:true,\\\\x22ds\\\\x22:\\\\x22\\\\x22,\\\\x22ffql\\\\x22:\\\\x22en\\\\x22,\\\\x22fl\\\\x22:true,\\\\x22host\\\\x22:\\\\x22google.com\\\\x22,\\\\x22isbh\\\\x22:28,\\\\x22jsonp\\\\x22:true,\\\\x22msgs\\\\x22:{\\\\x22cibl\\\\x22:\\\\x22Clear Search\\\\x22,\\\\x22dym\\\\x22:\\\\x22Did you mean:\\\\x22,\\\\x22lcky\\\\x22:\\\\x22I\\\\\\\\u0026#39;m Feeling Lucky\\\\x22,\\\\x22lml\\\\x22:\\\\x22Learn more\\\\x22,\\\\x22oskt\\\\x22:\\\\x22Input tools\\\\x22,\\\\x22psrc\\\\x22:\\\\x22This search was removed from your \\\\\\\\u003Ca href\\\\x3d\\\\\\\\\\\\x22/history\\\\\\\\\\\\x22\\\\\\\\u003EWeb History\\\\\\\\u003C/a\\\\\\\\u003E\\\\x22,\\\\x22psrl\\\\x22:\\\\x22Remove\\\\x22,\\\\x22sbit\\\\x22:\\\\x22Search by image\\\\x22,\\\\x22srch\\\\x22:\\\\x22Google Search\\\\x22},\\\\x22ovr\\\\x22:{},\\\\x22pq\\\\x22:\\\\x22\\\\x22,\\\\x22refpd\\\\x22:true,\\\\x22rfs\\\\x22:[],\\\\x22sbas\\\\x22:\\\\x220 3px 8px 0 rgba(0,0,0,0.2),0 0 0 1px rgba(0,0,0,0.08)\\\\x22,\\\\x22sbpl\\\\x22:16,\\\\x22sbpr\\\\x22:16,\\\\x22scd\\\\x22:10,\\\\x22stok\\\\x22:\\\\x22deCijAXaLzysnv0VXbsAMeWeMfw\\\\x22,\\\\x22uhde\\\\x22:false}}\\';google.pmc=JSON.parse(pmc);})();</script>        </body></html>'\n"
          ],
          "name": "stdout"
        }
      ]
    },
    {
      "cell_type": "code",
      "metadata": {
        "colab": {
          "base_uri": "https://localhost:8080/"
        },
        "id": "6zeiK0qWsQtj",
        "outputId": "53f46a36-6b4c-416a-cad9-53141b662454"
      },
      "source": [
        "print (url_google.info())"
      ],
      "execution_count": 2,
      "outputs": [
        {
          "output_type": "stream",
          "text": [
            "Date: Mon, 23 Aug 2021 08:13:12 GMT\n",
            "Expires: -1\n",
            "Cache-Control: private, max-age=0\n",
            "Content-Type: text/html; charset=ISO-8859-1\n",
            "P3P: CP=\"This is not a P3P policy! See g.co/p3phelp for more info.\"\n",
            "Server: gws\n",
            "X-XSS-Protection: 0\n",
            "X-Frame-Options: SAMEORIGIN\n",
            "Set-Cookie: 1P_JAR=2021-08-23-08; expires=Wed, 22-Sep-2021 08:13:12 GMT; path=/; domain=.google.com; Secure\n",
            "Set-Cookie: NID=221=SiPQLsUgfzB7CagwoxpOPGZJRf8hXP-PYFdx7IlrhTk7PvunXiyusX_Jl7oKiWuwtxzAKIulCBPi1Z5xXZJ06Uut5iYzSSHB_6HB2T3oxBM2RXVJG1NpUb8QY9lDYkpsc1UvOhCiRkoGEDKAZ4UDRI5OiBLjJ9BdWXzy4z94JJs; expires=Tue, 22-Feb-2022 08:13:12 GMT; path=/; domain=.google.com; HttpOnly\n",
            "Accept-Ranges: none\n",
            "Vary: Accept-Encoding\n",
            "Connection: close\n",
            "Transfer-Encoding: chunked\n",
            "\n",
            "\n"
          ],
          "name": "stdout"
        }
      ]
    },
    {
      "cell_type": "code",
      "metadata": {
        "colab": {
          "base_uri": "https://localhost:8080/"
        },
        "id": "v2Ml0JE_s_kc",
        "outputId": "e253ca32-ebbd-4e3b-c167-b3a24e42fd33"
      },
      "source": [
        "print(url_google.getheaders())"
      ],
      "execution_count": 3,
      "outputs": [
        {
          "output_type": "stream",
          "text": [
            "[('Date', 'Mon, 23 Aug 2021 08:13:12 GMT'), ('Expires', '-1'), ('Cache-Control', 'private, max-age=0'), ('Content-Type', 'text/html; charset=ISO-8859-1'), ('P3P', 'CP=\"This is not a P3P policy! See g.co/p3phelp for more info.\"'), ('Server', 'gws'), ('X-XSS-Protection', '0'), ('X-Frame-Options', 'SAMEORIGIN'), ('Set-Cookie', '1P_JAR=2021-08-23-08; expires=Wed, 22-Sep-2021 08:13:12 GMT; path=/; domain=.google.com; Secure'), ('Set-Cookie', 'NID=221=SiPQLsUgfzB7CagwoxpOPGZJRf8hXP-PYFdx7IlrhTk7PvunXiyusX_Jl7oKiWuwtxzAKIulCBPi1Z5xXZJ06Uut5iYzSSHB_6HB2T3oxBM2RXVJG1NpUb8QY9lDYkpsc1UvOhCiRkoGEDKAZ4UDRI5OiBLjJ9BdWXzy4z94JJs; expires=Tue, 22-Feb-2022 08:13:12 GMT; path=/; domain=.google.com; HttpOnly'), ('Accept-Ranges', 'none'), ('Vary', 'Accept-Encoding'), ('Connection', 'close'), ('Transfer-Encoding', 'chunked')]\n"
          ],
          "name": "stdout"
        }
      ]
    },
    {
      "cell_type": "code",
      "metadata": {
        "colab": {
          "base_uri": "https://localhost:8080/"
        },
        "id": "wdFvkZYStsIL",
        "outputId": "91a86ec8-0999-4d48-9560-f43e630f7d4c"
      },
      "source": [
        "print (url_google.geturl())"
      ],
      "execution_count": 4,
      "outputs": [
        {
          "output_type": "stream",
          "text": [
            "https://www.google.com/\n"
          ],
          "name": "stdout"
        }
      ]
    },
    {
      "cell_type": "code",
      "metadata": {
        "colab": {
          "base_uri": "https://localhost:8080/"
        },
        "id": "3wUGUR7XtTDk",
        "outputId": "8a4b1d80-de4d-4104-b8a6-12c700ed9432"
      },
      "source": [
        "print(url_google.getcode())"
      ],
      "execution_count": 5,
      "outputs": [
        {
          "output_type": "stream",
          "text": [
            "200\n"
          ],
          "name": "stdout"
        }
      ]
    },
    {
      "cell_type": "code",
      "metadata": {
        "colab": {
          "base_uri": "https://localhost:8080/"
        },
        "id": "ShnY1ztkAqW4",
        "outputId": "2b250555-6488-4f86-990a-818e29346a81"
      },
      "source": [
        "import urllib.parse\n",
        "url ='http://pythonprogramming.net'\n",
        "values = {'s':'basic', 'submit':'search'}\n",
        "data = urllib.parse.urlencode(values)\n",
        "data = data.encode('utf-8')\n",
        "req = urllib.request.Request(url, data)\n",
        "resp = urllib.request.urlopen(req)\n",
        "respData = resp.read()\n",
        "print (respData)"
      ],
      "execution_count": 6,
      "outputs": [
        {
          "output_type": "stream",
          "text": [
            "b'<html>\\n\\t<head>\\n\\n\\t\\t<!--\\n\\t\\tpalette:\\n\\t\\tdark blue: #003F72\\n\\t\\tyellow: #FFD166\\n\\t\\tsalmon: #EF476F\\n\\t\\toffwhite: #e7d7d7\\n\\t\\tLight Blue: #118AB2\\n\\t\\tLight green: #7DDF64\\n\\t\\t-->\\n\\n\\t\\t<meta name=\"viewport\" content = \"width=device-width, initial-scale=1.0\">\\n\\t\\t<title>Python Programming Tutorials</title>\\n\\n\\t\\t<meta name=\"description\" content=\"Python Programming tutorials from beginner to advanced on a massive variety of topics. All video and text tutorials are free.\">\\n\\n\\t\\t<link rel=\"shortcut icon\" href=\"/static/favicon.ico\">\\n\\t\\t<link rel=\"stylesheet\" href=\"/static/css/materialize.min.css\">\\n        <link href=\"https://fonts.googleapis.com/icon?family=Material+Icons\" rel=\"stylesheet\">\\n        <meta name=\"google-site-verification\" content=\"3fLok05gk5gGtWd_VSXbSSSH27F2kr1QqcxYz9vYq2k\" />\\n        <link rel=\"stylesheet\" type=\"text/css\" href=\"/static/css/bootstrap.css\">\\n\\n\\n\\t\\t  <!-- Compiled and minified CSS -->\\n\\n\\t\\t<!-- Compiled and minified JavaScript -->\\n\\n\\t\\t<script src=\"https://code.jquery.com/jquery-2.1.4.min.js\"></script>\\n\\t\\t<script src=\"https://cdnjs.cloudflare.com/ajax/libs/materialize/0.97.3/js/materialize.min.js\"></script>\\n\\n\\n\\n        <style>\\n\\t\\t@media (min-width:992px) {\\n\\t\\t#aside {\\n\\t\\t\\twidth:250px;\\n\\t\\t}\\n\\t\\tpre { tab-size: 4;}\\n\\t\\t.btn {background-color:#FFD166;\\n\\t\\t\\t  color:#000;\\n\\t\\t      height:auto;\\n\\t\\t\\t  font-color:#000;\\n\\t\\t\\t  }\\n\\t\\t.btn:hover {background-color:#FFD166;\\n\\t\\t\\t\\t\\t}\\n\\n\\n\\t\\t</style>\\n\\n\\t\\t<!-- Google Tracking -->\\n\\t\\t<script>\\n\\t\\t\\t  (function(i,s,o,g,r,a,m){i[\\'GoogleAnalyticsObject\\']=r;i[r]=i[r]||function(){\\n\\t\\t\\t  (i[r].q=i[r].q||[]).push(arguments)},i[r].l=1*new Date();a=s.createElement(o),\\n\\t\\t\\t  m=s.getElementsByTagName(o)[0];a.async=1;a.src=g;m.parentNode.insertBefore(a,m)\\n\\t\\t\\t  })(window,document,\\'script\\',\\'//www.google-analytics.com/analytics.js\\',\\'ga\\');\\n              ga(\\'config\\', \\'UA-51891827-1\\', {\\'anonymize_ip\\': true});\\xef\\xbb\\xbf\\n\\t\\t\\t  ga(\\'create\\', \\'UA-51891827-1\\', \\'auto\\');\\n\\t\\t\\t  ga(\\'send\\', \\'pageview\\');\\n\\n\\t\\t</script>\\n\\n            \\n            \\n\\n\\n\\n\\n\\t</head>\\n\\n\\t<body>\\n\\n\\t\\t<div class=\"navbar-fixed\">\\n\\t\\t\\t<nav style=\"background-color:#003F72\">\\n\\t\\t\\t\\t<div class=\"nav-wrapper container\">\\n\\t\\t\\t\\t\\t<a href=\"/\" class=\"brand-logo\"><img class=\"img-responsive\" style=\"width:50px; height;50px; margin-top:5px\" src=\"/static/images/mainlogowhitethick.jpg\"></a>\\n\\t\\t\\t\\t\\t<a href=\"#\" data-activates=\"navsidebar\" class=\"button-collapse\"><i class=\"mdi-navigation-menu\"></i></a>\\n\\t\\t\\t\\t\\t<ul class=\"right hide-on-med-and-down\">\\n\\t\\t\\t\\t\\t<li><i class=\"material-icons\">search</i></li>\\n\\t\\t\\t\\t\\t<li>\\n\\t\\t\\t\\t\\t\\t<form method=\\'get\\' id=\\'searchform\\' style=\\'height:50px; padding-top:10px\\' action=\\'/search/?l=hi\\'>\\n\\t\\t\\t\\t\\t\\t\\t<input name=\\'q\\' id=\"search\" type=\"search\" placeholder=\"search\"  style=\\'font-size:16px\\'>\\n\\t\\t\\t\\t\\t\\t</form>\\n\\t\\t\\t\\t\\t</li>\\n\\t\\t\\t\\t\\t\\t\\n\\t\\t\\t<li><a href=\"/\">Home</a></li>\\n\\t\\t\\t<li><a class=\"tooltipped\" data-position=\"bottom\" data-delay=\"50\" data-tooltip=\"sudo apt-get upgrade\" href=\"/+=1/\">+=1</a></li>\\n\\t\\t\\t<!--<li><a href=\"/store/python-hoodie/\">Store</a></li>-->\\n\\t\\t\\t<li><a href=\"/support/\">Support the Content</a></li>\\n\\t\\t\\t\\n\\t\\t\\t<li><a href=\"https://goo.gl/7zgAVQ\" target=\\'blank\\'><!--<i class=\"material-icons\">question_answer</i>-->Community</a></li>\\n\\t\\t\\t\\t<li><a href=\"/login/\">Log in</a></li>\\n                <li><a href=\"/register/\">Sign up</a></li>\\n\\t\\t\\t\\n\\n\\t\\t\\t\\t\\t</ul>\\n\\t\\t\\t\\t\\t<ul class=\"side-nav\" id=\"navsidebar\">\\n\\t\\t\\t\\t\\t<li>\\n\\t\\t\\t\\t\\t\\t<form method=\\'get\\' id=\\'searchform\\' style=\\'height:50px; padding-top:10px\\' action=\\'/search/?l=hi\\'>\\n\\t\\t\\t\\t\\t\\t\\t<input name=\\'q\\' id=\"search\" type=\"search\" placeholder=\"search\"  style=\\'font-size:16px\\'>\\n\\t\\t\\t\\t\\t\\t</form>\\n\\t\\t\\t\\t\\t</li>\\n\\t\\t\\t\\t\\t\\t\\n\\t\\t\\t<li><a href=\"/\">Home</a></li>\\n\\t\\t\\t<li><a class=\"tooltipped\" data-position=\"bottom\" data-delay=\"50\" data-tooltip=\"sudo apt-get upgrade\" href=\"/+=1/\">+=1</a></li>\\n\\t\\t\\t<!--<li><a href=\"/store/python-hoodie/\">Store</a></li>-->\\n\\t\\t\\t<li><a href=\"/support/\">Support the Content</a></li>\\n\\t\\t\\t\\n\\t\\t\\t<li><a href=\"https://goo.gl/7zgAVQ\" target=\\'blank\\'><!--<i class=\"material-icons\">question_answer</i>-->Community</a></li>\\n\\t\\t\\t\\t<li><a href=\"/login/\">Log in</a></li>\\n                <li><a href=\"/register/\">Sign up</a></li>\\n\\t\\t\\t\\n\\n\\t\\t\\t\\t\\t</ul>\\n\\t\\t\\t\\t</div>\\n\\t\\t\\t</nav>\\n\\t\\t</div>\\n\\n\\n\\n\\t\\t<!-- main content -->\\n\\t\\t<div class=\"container\" style=\"max-width:1500px; min-height:100%\">\\n\\t\\t\\t<!--Notification:-->\\n            <!--<p style=\"font-size:80%\">TensorFlow.js Livestream:  <a href=\"https://www.youtube.com/watch?v=NjSlj95lliM\" target=\"blank\"><strong>Deep Learning in the browser</strong></a></p>-->\\n            <!--End Notification:-->\\n\\n\\t\\t\\t\\t\\t\\n\\t\\t\\t\\t\\t\\n\\t\\t\\t\\t\\t  \\n\\t\\t\\t\\t\\t\\n\\n\\t\\t\\t\\t\\t\\n\\n\\n\\n\\t<div class=\"row\">\\n\\t<!-- size 4 on a large screen, 12 on a small, 6 on a med -->\\n        <div class=\"col l4 s12 m6\">\\n          <a href=\"/machine-learning-tutorials/\" class=\"waves-effect waves-light\" style=\"color:#000\">\\n            <div class=\"card-panel hoverable\" style=\"height:360px; background-color:#FFFFFF;\">\\n              <div class=\"card-image\">\\n                <img class=\"responsive-img\" src=\"/static/images/categories/machine-learning-playlist.png\" style=\"width:250px\">\\n                <br><span class=\"card-title\"><strong>Machine Learning</strong></span>\\n              </div>\\n              <div class=\"card-content\">\\n                <p>Employ both supervised and unsupervised machine learning, to make predictions or to understand data.</p>\\n              </div>\\n              <div class=\"card-action right-align\">\\n                <a href=\"/machine-learning-tutorials/\" class=\"waves-effect waves-light btn\" style=\"color:#000000; background-color:#FFD166\">View</a>\\n              </div>\\n            </div>\\n          </a>\\n        </div>\\n\\n\\n\\t\\t<div class=\"col l4 s12 m6\">\\n\\t\\t\\t<a href=\"/data-analysis-tutorials/\" class=\"waves-effect waves-light\" style=\"color:#000\">\\n\\t\\t\\t<div class=\"card-panel hoverable\" style=\"height:360px; background-color:#FFFFFF;\">\\n\\t\\t\\t\\t<div class=\"card-image\">\\n\\t\\t\\t\\t  <img class=\"responsive-img\" src=\"/static/images/categories/3D-Matplotlib.png\" style=\"width:250px\">\\n\\t\\t\\t\\t  <br><span class=\"card-title\"><strong>Data Analysis</strong></span>\\n\\t\\t\\t\\t</div>\\n\\t\\t\\t\\t<div class=\"card-content\">\\n\\t\\t\\t\\t  <p>Learn how to use Python with Pandas, Matplotlib, and other modules to gather insights from and about your data.</p>\\n\\t\\t\\t\\t</div>\\n\\t\\t\\t\\t<div class=\"card-action right-align\">\\n\\t\\t\\t\\t  <a href=\"/data-analysis-tutorials/\" class=\"waves-effect waves-light btn\" style=\"color:#000000; background-color:#FFD166\">View</a>\\n\\t\\t\\t\\t</div>\\n            </div>\\n            </a>\\n\\t\\t</div>\\n\\n\\n\\n\\t\\t<div class=\"col l4 s12 m6\">\\n\\n\\t\\t\\t<div class=\"card-panel hoverable\" style=\"height:360px; background-color:#FFFFFF;\">\\n\\t\\t\\t<a href=\"/quantum-computer-programming-tutorial/\" class=\"waves-effect waves-light\" style=\"color:#000\">\\n\\t\\t\\t\\t<div class=\"card-image\">\\n\\t\\t\\t\\t  <img class=\"responsive-img\" src=\"/static/images/categories/quantum-programming.png\" style=\"width:250px\">\\n\\t\\t\\t\\t  <br><span class=\"card-title\"><strong>Quantum Computer Programming</strong></span>\\n\\t\\t\\t\\t</div>\\n\\t\\t\\t\\t<div class=\"card-content\">\\n\\t\\t\\t\\t  <p>Learn the basics and concepts of working with quantum computers and qubits through practical applications and the Qiskit package.</p>\\n\\t\\t\\t\\t</div>\\n\\t\\t\\t\\t<div class=\"card-action right-align\">\\n\\t\\t\\t\\t  <a href=\"/quantum-computer-programming-tutorial/\" class=\"waves-effect waves-light btn\" style=\"color:#000000; background-color:#FFD166\">Start</a>\\n\\t\\t\\t\\t</div>\\n\\t\\t\\t\\t</a>\\n            </div>\\n\\n\\t\\t</div>\\n\\t</div>\\n\\n\\n\\n\\n\\n\\n\\n\\n\\t<div class=\"row\">\\n\\n\\t\\t<div class=\"col l3 s12 m6\">\\n\\t\\t\\t<a href=\"/game-development-tutorials/\" class=\"waves-effect waves-light\" style=\"color:#000\">\\n\\t\\t\\t<div class=\"card-panel hoverable\" style=\"height:360px; background-color:#FFFFFF;\">\\n\\t\\t\\t\\t<div class=\"card-image\">\\n\\t\\t\\t\\t  <img class=\"responsive-img\" src=\"/static/images/categories/pygame-tutorials.png\" style=\"width:250px\">\\n\\t\\t\\t\\t  <br><span class=\"card-title\"><strong>Game Development</strong></span>\\n\\t\\t\\t\\t</div>\\n\\t\\t\\t\\t<div class=\"card-content\">\\n\\t\\t\\t\\t  <p>Create your own games with Python\\'s PyGame library, or check out the multi-platform Kivy.</p>\\n\\t\\t\\t\\t</div>\\n\\t\\t\\t\\t<div class=\"card-action right-align\">\\n\\t\\t\\t\\t  <a href=\"/game-development-tutorials/\" class=\"waves-effect waves-light btn\" style=\"color:#000000; background-color:#FFD166\">View</a>\\n\\t\\t\\t\\t</div>\\n            </div>\\n            </a>\\n\\t\\t</div>\\n\\n\\n\\n\\t\\t<div class=\"col l3 s12 m6\">\\n\\t\\t\\t<a href=\"/python-fundamental-tutorials/\" class=\"waves-effect waves-light\" style=\"color:#000\">\\n\\t\\t\\t<div class=\"card-panel hoverable\" style=\"height:360px; background-color:#FFFFFF;\">\\n\\t\\t\\t\\t<div class=\"card-image\">\\n\\t\\t\\t\\t  <img class=\"responsive-img\" src=\"/static/images/categories/python-3-basics.png\" style=\"width:250px\">\\n\\t\\t\\t\\t  <br><span class=\"card-title\"><strong>Python Fundamentals</strong></span>\\n\\t\\t\\t\\t</div>\\n\\t\\t\\t\\t<div class=\"card-content\">\\n\\t\\t\\t\\t  <p>Learn the basic and intermediate Python fundamentals.</p>\\n\\t\\t\\t\\t</div>\\n\\t\\t\\t\\t<div class=\"card-action right-align\">\\n\\t\\t\\t\\t  <a href=\"/python-fundamental-tutorials/\" class=\"waves-effect waves-light btn\" style=\"color:#000000; background-color:#FFD166\">View</a>\\n\\t\\t\\t\\t</div>\\n            </div>\\n            </a>\\n\\t\\t</div>\\n\\n\\n\\n\\n\\t\\t<!--<div class=\"col l4 s12 m6\">\\n\\t\\t\\t\\n\\t\\t\\t<div class=\"card-panel hoverable\" style=\"height:360px; background-color:#FFFFFF;\">\\n\\t\\t\\t<a href=\"/introduction-to-python-programming/\" class=\"waves-effect waves-light\" style=\"color:#000\">\\n\\t\\t\\t\\t<div class=\"card-image\">\\n\\t\\t\\t\\t  <img class=\"responsive-img\" src=\"/static/images/categories/python-3-basics.png\" style=\"width:250px\">\\n\\t\\t\\t\\t  <br><span class=\"card-title\"><strong>Basics</strong></span>\\n\\t\\t\\t\\t</div>\\n\\t\\t\\t\\t<div class=\"card-content\">\\n\\t\\t\\t\\t  <p>Just getting started?</p> \\n\\t\\t\\t\\t  <p>Not a problem, learn the basics of programming with Python 3 here!</p>\\n\\t\\t\\t\\t</div>\\n\\t\\t\\t\\t<div class=\"card-action right-align\">\\n\\t\\t\\t\\t  <a href=\"/introduction-to-python-programming/\" class=\"waves-effect waves-light btn\" style=\"color:#000000; background-color:#FFD166\">Start</a>\\n\\t\\t\\t\\t</div>\\n\\t\\t\\t\\t</a>\\n            </div>\\n\\n\\n\\t\\t</div>-->\\n\\n        <div class=\"col l3 s12 m6\">\\n            <a href=\"/web-development-tutorials/\" class=\"waves-effect waves-light\" style=\"color:#000\">\\n            <div class=\"card-panel hoverable\" style=\"height:360px; background-color:#FFFFFF;\">\\n                <div class=\"card-image\">\\n                  <img class=\"responsive-img\" src=\"/static/images/categories/webdev.png\" style=\"width:250px\">\\n                  <br><span class=\"card-title\"><strong>Web Development</strong></span>\\n                </div>\\n                <div class=\"card-content\">\\n                  <p>How to develop websites with either the Flask or Django frameworks for Python.</p>\\n                </div>\\n                <div class=\"card-action right-align\">\\n                  <a href=\"/web-development-tutorials/\" class=\"waves-effect waves-light btn\" style=\"color:#000000; background-color:#FFD166\">View</a>\\n                </div>\\n            </div>\\n            </a>\\n        </div>\\n\\n\\t\\t<div class=\"col l3 s12 m6\">\\n\\t\\t\\t<a href=\"/bot-tutorials/\" class=\"waves-effect waves-light\" style=\"color:#000\">\\n\\t\\t\\t<div class=\"card-panel hoverable\" style=\"height:360px; background-color:#FFFFFF;\">\\n\\t\\t\\t\\t<div class=\"card-image\">\\n\\t\\t\\t\\t  <img class=\"responsive-img\" src=\"/static/images/categories/bots.png\" style=\"width:250px\">\\n\\t\\t\\t\\t  <br><span class=\"card-title\"><strong>Bots &amp; AI</strong></span>\\n\\t\\t\\t\\t</div>\\n\\t\\t\\t\\t<div class=\"card-content\">\\n\\t\\t\\t\\t  <p>Creating various software bots, like bots in games, in chats, and to interact with the web. Not to be confused with robotics!</p>\\n\\t\\t\\t\\t</div>\\n\\t\\t\\t\\t<div class=\"card-action right-align\">\\n\\t\\t\\t\\t  <a href=\"/bot-tutorials/\" class=\"waves-effect waves-light btn\" style=\"color:#000000; background-color:#FFD166\">View</a>\\n\\t\\t\\t\\t</div>\\n            </div>\\n            </a>\\n\\t\\t</div>\\n\\t</div>\\n\\n\\n\\n\\n\\n\\n\\n\\n    <div class=\"row\">\\n\\n        <div class=\"col l4 s12 m6\">\\n            <a href=\"/robotics-tutorials/\" class=\"waves-effect waves-light\" style=\"color:#000\">\\n            <div class=\"card-panel hoverable\" style=\"height:360px; background-color:#FFFFFF;\">\\n                <div class=\"card-image\">\\n                  <img class=\"responsive-img\" src=\"/static/images/categories/robotics_with_raspberry_pi_gopigo.jpg\" style=\"width:250px\">\\n                  <br><span class=\"card-title\"><strong>Robotics</strong></span>\\n                </div>\\n                <div class=\"card-content\">\\n                  <p>Control hardware with Python programming and the Raspberry Pi.</p>\\n                </div>\\n                <div class=\"card-action right-align\">\\n                  <a href=\"/robotics-tutorials/\" class=\"waves-effect waves-light btn\" style=\"color:#000000; background-color:#FFD166\">View</a>\\n                </div>\\n            </div>\\n            </a>\\n        </div>\\n\\n        <div class=\"col l4 s12 m6\">\\n\\n            <a href=\"/gui-development-tutorials/\" class=\"waves-effect waves-light\" style=\"color:#000\">\\n            <div class=\"card-panel hoverable\" style=\"height:360px; background-color:#FFFFFF;\">\\n                <div class=\"card-image\">\\n                  <img class=\"responsive-img\" src=\"/static/images/categories/tkinter-gui-tutorial-with-python-3.png\" style=\"width:250px\">\\n                  <br><span class=\"card-title\"><strong>GUIs</strong></span>\\n                </div>\\n                <div class=\"card-content\">\\n                  <p>Create software with a user interface using Tkinter, PyQt, or Kivy.</p>\\n                </div>\\n                <div class=\"card-action right-align\">\\n                  <a href=\"/gui-development-tutorials/\" class=\"waves-effect waves-light btn\" style=\"color:#000000; background-color:#FFD166\">View</a>\\n                </div>\\n            </div>\\n            </a>\\n\\n        </div>\\n\\n\\n\\n        <div class=\"col l4 s12 m6\">\\n    \\t  <div class=\"card\">\\n    \\t    <!--<div class=\"card-content\">\\n    \\t      <p>Curious about more than just Python? While not covered in nearly as much depth, here are some tutorials in other languages:</p>\\n    \\t    </div>-->\\n\\n    \\t    <div class=\"card-tabs\">\\n    \\t      <ul class=\"tabs tabs-fixed-width\">\\n    \\t        <li class=\"tab\"><a class=\"active\" href=\"#golang\">Golang</a></li>\\n    \\t        <!--<li class=\"tab\"><a href=\"#cpp\">C++</a></li>\\n    \\t        <li class=\"tab\"><a href=\"#julia\">Julia</a></li>-->\\n    \\t      </ul>\\n    \\t    </div>\\n\\n    \\t    <div class=\"card-content grey lighten-4\">\\n    \\t      <div id=\"golang\">\\n    \\t        <p>Go is a programming language aimed at being simple, easy to work with, and capable of high performance.</p><br>\\n    \\t        <a href=\"/go/\">\\n    \\t          <img class=\"responsive-img\" src=\"/static/images/categories/golang-tutorials.png\" style=\"width:150px;\">\\n    \\t        </a>\\n\\n    \\t        <div class=\"card-action left-align\">\\n    \\t          <a href=\"/go/\" class=\"waves-effect waves-light btn\" style=\"color:#000000; background-color:#FFD166\">View Tutorial</a>\\n    \\t        </div>\\n    \\t      </div>\\n\\n    \\t      <!--<div id=\"gpp\">C++ content</div>\\n    \\t      <div id=\"julia\">Julia content</div>-->\\n\\n    \\t    </div>\\n    \\t  </div>\\n        </div>\\n\\n\\n    </div>\\n\\n\\n\\n\\t\\t\\t</div>\\n\\t\\t</div>\\n\\n\\t\\t<!--login modal-->\\n\\t\\t\\n\\n\\t\\t<!--Register modal-->\\n\\t\\t\\n\\n\\n\\t\\t<script>\\n\\t\\t\\t$(document).ready(function(){\\n\\t\\t\\t\\t$(\".button-collapse\").sideNav();\\n\\t\\t\\t\\t$(\\'.modal-trigger\\').leanModal();\\n\\t\\t\\t\\t$(\\'.collapsible\\').collapsible({\\n\\t\\t\\t\\t  accordion : false // A setting that changes the collapsible behavior to expandable instead of the default accordion style\\n\\t\\t\\t\\t});\\n\\t\\t\\t\\t$(\\'#aside\\').pushpin({ top:110, bottom:500 });\\n\\t\\t  });\\n\\t\\t</script>\\n\\t\\t<script>\\n\\t\\t  $(document).ready(function(){\\n\\t\\t\\t$(\\'.collapsible\\').collapsible({\\n\\t\\t\\t  accordion : false // A setting that changes the collapsible behavior to expandable instead of the default accordion style\\n\\t\\t\\t});\\n\\t\\t\\t$(\\'select\\').material_select();\\n\\t\\t  });\\n\\t  </script>\\n\\t  <script>\\n\\t\\tfunction goBack() {\\n\\t\\t\\twindow.history.back()\\n\\t\\t}\\n\\t</script>\\n\\t\\t<script type=\"text/javascript\" src=\"/static/js/run_prettify.js\"></script>\\n\\n\\t</body>\\n\\n<footer class=\"page-footer\">\\n          <div class=\"container\">\\n            <div class=\"row\">\\n              <div class=\"col l6 s12\">\\n                <h5 class=\"white-text\">You\\'ve reached the end!</h5>\\n\\n                <p class=\"grey-text text-lighten-4\">Contact: Harrison@pythonprogramming.net.</p>\\n                <ul>\\n                  <li><a class=\"grey-text text-lighten-3\" href=\"/support-donate/\">Support this Website!</a></li>\\n                  <li><a class=\"grey-text text-lighten-3\" href=\"/consulting/\">Consulting and Contracting</a></li>\\n                  <li><a class=\"grey-text text-lighten-3\" href=\"https://www.facebook.com/pythonprogramming.net/\">Facebook</a></li>\\n                  <li><a class=\"grey-text text-lighten-3\" href=\"https://twitter.com/sentdex\">Twitter</a></li>\\n                  <li><a class=\"grey-text text-lighten-3\" href=\"https://instagram.com/sentdex\">Instagram</a></li>\\n                </ul>\\n              </div>\\n              <div class=\"col l4 offset-l2 s12\">\\n                <h6 class=\"white-text\">Legal stuff:</h6>\\n                <ul>\\n                  <li><a class=\"grey-text text-lighten-3\" href=\"/about/tos/\">Terms and Conditions</a></li>\\n                  <li><a class=\"grey-text text-lighten-3\" href=\"/about/privacy-policy/\">Privacy Policy</a></li>\\n\\n                </ul>\\n              </div>\\n            </div>\\n          </div>\\n          <a href=\"https://xkcd.com/353/\" target=\\'blank\\'><p class=\"grey-text right\" style=\\'padding-right:10px\\'>Programming is a superpower.</p></a>\\n          <div class=\"footer-copyright\">\\n            <div class=\"container\">\\n            \\xc2\\xa9 OVER 9000! PythonProgramming.net\\n\\n            </div>\\n\\n          </div>\\n        </footer>\\n\\n</html>\\n\\n\\n\\n\\n\\n\\n\\n\\n\\n\\n\\n\\n\\n\\n'\n"
          ],
          "name": "stdout"
        }
      ]
    },
    {
      "cell_type": "code",
      "metadata": {
        "id": "5ZWF_xQQ7xCd"
      },
      "source": [
        "import requests"
      ],
      "execution_count": 7,
      "outputs": []
    },
    {
      "cell_type": "code",
      "metadata": {
        "id": "igTRtCHbZwYu"
      },
      "source": [
        "r = requests.get('https://api.github.com/events')"
      ],
      "execution_count": 8,
      "outputs": []
    },
    {
      "cell_type": "code",
      "metadata": {
        "colab": {
          "base_uri": "https://localhost:8080/"
        },
        "id": "zNuEyMoLZ6Oz",
        "outputId": "be333656-194d-4332-837b-4ac158d00f8a"
      },
      "source": [
        "r.headers"
      ],
      "execution_count": 9,
      "outputs": [
        {
          "output_type": "execute_result",
          "data": {
            "text/plain": [
              "{'Server': 'GitHub.com', 'Date': 'Mon, 23 Aug 2021 08:13:13 GMT', 'Content-Type': 'application/json; charset=utf-8', 'Cache-Control': 'public, max-age=60, s-maxage=60', 'Vary': 'Accept, Accept-Encoding, Accept, X-Requested-With', 'ETag': 'W/\"4061ba6f511d17b0a48d13a52b609e2ee78ec80acf9b6dc0fb5e555cabff969e\"', 'Last-Modified': 'Mon, 23 Aug 2021 08:08:12 GMT', 'X-Poll-Interval': '60', 'X-GitHub-Media-Type': 'github.v3; format=json', 'Link': '<https://api.github.com/events?page=2>; rel=\"next\", <https://api.github.com/events?page=10>; rel=\"last\"', 'Access-Control-Expose-Headers': 'ETag, Link, Location, Retry-After, X-GitHub-OTP, X-RateLimit-Limit, X-RateLimit-Remaining, X-RateLimit-Used, X-RateLimit-Resource, X-RateLimit-Reset, X-OAuth-Scopes, X-Accepted-OAuth-Scopes, X-Poll-Interval, X-GitHub-Media-Type, Deprecation, Sunset', 'Access-Control-Allow-Origin': '*', 'Strict-Transport-Security': 'max-age=31536000; includeSubdomains; preload', 'X-Frame-Options': 'deny', 'X-Content-Type-Options': 'nosniff', 'X-XSS-Protection': '0', 'Referrer-Policy': 'origin-when-cross-origin, strict-origin-when-cross-origin', 'Content-Security-Policy': \"default-src 'none'\", 'Content-Encoding': 'gzip', 'X-RateLimit-Limit': '60', 'X-RateLimit-Remaining': '57', 'X-RateLimit-Reset': '1629709877', 'X-RateLimit-Resource': 'core', 'X-RateLimit-Used': '3', 'Accept-Ranges': 'bytes', 'Transfer-Encoding': 'chunked', 'X-GitHub-Request-Id': 'A24C:1822:3130A72:5835574:61235898'}"
            ]
          },
          "metadata": {},
          "execution_count": 9
        }
      ]
    }
  ]
}