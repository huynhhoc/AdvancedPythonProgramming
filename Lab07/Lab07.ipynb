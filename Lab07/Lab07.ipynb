{
  "nbformat": 4,
  "nbformat_minor": 0,
  "metadata": {
    "colab": {
      "name": "Lab07.ipynb",
      "provenance": [],
      "authorship_tag": "ABX9TyNk7Kvf3RbhcphoLPxmXNIl",
      "include_colab_link": true
    },
    "kernelspec": {
      "name": "python3",
      "display_name": "Python 3"
    },
    "language_info": {
      "name": "python"
    }
  },
  "cells": [
    {
      "cell_type": "markdown",
      "metadata": {
        "id": "view-in-github",
        "colab_type": "text"
      },
      "source": [
        "<a href=\"https://colab.research.google.com/github/huynhhoc/AdvancedPythonProgramming/blob/main/Lab07/Lab07.ipynb\" target=\"_parent\"><img src=\"https://colab.research.google.com/assets/colab-badge.svg\" alt=\"Open In Colab\"/></a>"
      ]
    },
    {
      "cell_type": "markdown",
      "metadata": {
        "id": "zRFJMjrruiDw"
      },
      "source": [
        "# Create a project environment for the Flask tutorial"
      ]
    },
    {
      "cell_type": "markdown",
      "metadata": {
        "id": "FC1nj7Rzu0LQ"
      },
      "source": [
        "https://code.visualstudio.com/docs/python/tutorial-flask"
      ]
    }
  ]
}