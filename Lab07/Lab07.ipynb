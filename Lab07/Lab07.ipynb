{
  "nbformat": 4,
  "nbformat_minor": 0,
  "metadata": {
    "colab": {
      "name": "Lab07.ipynb",
      "provenance": [],
      "authorship_tag": "ABX9TyMX0XPNC31fITO6ph0WHrKk",
      "include_colab_link": true
    },
    "kernelspec": {
      "name": "python3",
      "display_name": "Python 3"
    },
    "language_info": {
      "name": "python"
    }
  },
  "cells": [
    {
      "cell_type": "markdown",
      "metadata": {
        "id": "view-in-github",
        "colab_type": "text"
      },
      "source": [
        "<a href=\"https://colab.research.google.com/github/huynhhoc/AdvancedPythonProgramming/blob/main/Lab07/Lab07.ipynb\" target=\"_parent\"><img src=\"https://colab.research.google.com/assets/colab-badge.svg\" alt=\"Open In Colab\"/></a>"
      ]
    },
    {
      "cell_type": "markdown",
      "metadata": {
        "id": "zRFJMjrruiDw"
      },
      "source": [
        "# Create a project environment for the Flask tutorial"
      ]
    },
    {
      "cell_type": "markdown",
      "metadata": {
        "id": "FC1nj7Rzu0LQ"
      },
      "source": [
        "https://code.visualstudio.com/docs/python/tutorial-flask"
      ]
    },
    {
      "cell_type": "markdown",
      "metadata": {
        "id": "DcqkBKh9eq4v"
      },
      "source": [
        "#Flask Tutorial in Visual Studio Code"
      ]
    },
    {
      "cell_type": "markdown",
      "metadata": {
        "id": "GFn2mTjgesBk"
      },
      "source": [
        "**Prerequisites**"
      ]
    },
    {
      "cell_type": "markdown",
      "metadata": {
        "id": "WehRIHuHgXL2"
      },
      "source": [
        "1. Install the [Python extension](https://https://marketplace.visualstudio.com/items?itemName=ms-python.python).\n",
        "2. Install a version of Python 3"
      ]
    },
    {
      "cell_type": "markdown",
      "metadata": {
        "id": "wTJc11XLhBDM"
      },
      "source": [
        "**Create a project environment for the Flask**"
      ]
    },
    {
      "cell_type": "markdown",
      "metadata": {
        "id": "YDhOxz4NhGj0"
      },
      "source": [
        "1. On your file system, create a project folder for this tutorial, such as hello_flask.\n",
        "\n",
        "2. In that folder, use the following command (as appropriate to your computer) to create a virtual environment named ***env*** based on your current interpreter"
      ]
    },
    {
      "cell_type": "markdown",
      "metadata": {
        "id": "WccagLULhMBP"
      },
      "source": [
        "* Linux\n",
        "\n",
        "sudo apt-get install python3-venv    # If needed\n",
        "\n",
        "python3 -m venv env\n",
        "\n",
        "* macOS\n",
        "\n",
        "python3 -m venv env\n",
        "\n",
        "* Windows\n",
        "\n",
        "python -m venv env"
      ]
    }
  ]
}