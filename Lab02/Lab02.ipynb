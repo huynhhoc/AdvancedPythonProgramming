{
  "nbformat": 4,
  "nbformat_minor": 0,
  "metadata": {
    "colab": {
      "name": "Lab02.ipynb",
      "provenance": [],
      "authorship_tag": "ABX9TyP+2vFHsw7BF/flZTjVyZ62",
      "include_colab_link": true
    },
    "kernelspec": {
      "name": "python3",
      "display_name": "Python 3"
    },
    "language_info": {
      "name": "python"
    }
  },
  "cells": [
    {
      "cell_type": "markdown",
      "metadata": {
        "id": "view-in-github",
        "colab_type": "text"
      },
      "source": [
        "<a href=\"https://colab.research.google.com/github/huynhhoc/AdvancedPythonProgramming/blob/main/Lab02/Lab02.ipynb\" target=\"_parent\"><img src=\"https://colab.research.google.com/assets/colab-badge.svg\" alt=\"Open In Colab\"/></a>"
      ]
    },
    {
      "cell_type": "markdown",
      "metadata": {
        "id": "ALTudKCMei_J"
      },
      "source": [
        "# Chương 8\n",
        "Câu 4\n",
        "Insert 4499 in the list after 9362"
      ]
    },
    {
      "cell_type": "code",
      "metadata": {
        "id": "aaKUoJ3heong",
        "colab": {
          "base_uri": "https://localhost:8080/"
        },
        "outputId": "6260a7cb-ea3e-4b8c-e56d-aa32b12724c4"
      },
      "source": [
        "ids = [4353, 2314, 2956, 3382, 9362, 3900]\n",
        "ids.remove(3382)\n",
        "print(ids)\n",
        "index1=ids.index(9362)\n",
        "print(index1)\n",
        "ids.insert(4,4499)\n",
        "print(ids)\n",
        "list2 = [5566,1830]\n",
        "ids.extend(list2)\n",
        "print(ids)\n",
        "ids.reverse() # dao nguoc\n",
        "print(ids)\n",
        "ids.sort() # sap xep\n",
        "print(ids)"
      ],
      "execution_count": 1,
      "outputs": [
        {
          "output_type": "stream",
          "name": "stdout",
          "text": [
            "[4353, 2314, 2956, 9362, 3900]\n",
            "3\n",
            "[4353, 2314, 2956, 9362, 4499, 3900]\n",
            "[4353, 2314, 2956, 9362, 4499, 3900, 5566, 1830]\n",
            "[1830, 5566, 3900, 4499, 9362, 2956, 2314, 4353]\n",
            "[1830, 2314, 2956, 3900, 4353, 4499, 5566, 9362]\n"
          ]
        }
      ]
    },
    {
      "cell_type": "markdown",
      "metadata": {
        "id": "jK0-XZKsfaY2"
      },
      "source": [
        "Câu 6: Using slicing, create two new lists, cool_temps and warm_temps, which\n",
        "contain the temperatures below and above 20 degrees Celsius, respectively"
      ]
    },
    {
      "cell_type": "code",
      "metadata": {
        "colab": {
          "base_uri": "https://localhost:8080/"
        },
        "id": "dRtUX6t2f33E",
        "outputId": "fa01cd43-d4e8-4d98-c736-34d4697b27ad"
      },
      "source": [
        "temps = [25.2,16.8, 31.4, 23.9, 28, 22.5,19.6]\n",
        "temps.sort()\n",
        "print(temps)\n",
        "temps_hot= []\n",
        "temps_cool = []\n",
        "for i in temps:\n",
        "  if (i> 20):\n",
        "    temps_hot.append(i)\n",
        "  if (i<20):\n",
        "    temps_cool.append(i)\n",
        "\n",
        "print(temps_hot)\n",
        "print(temps_cool)"
      ],
      "execution_count": 2,
      "outputs": [
        {
          "output_type": "stream",
          "name": "stdout",
          "text": [
            "[16.8, 19.6, 22.5, 23.9, 25.2, 28, 31.4]\n",
            "[22.5, 23.9, 25.2, 28, 31.4]\n",
            "[16.8, 19.6]\n"
          ]
        }
      ]
    },
    {
      "cell_type": "markdown",
      "metadata": {
        "id": "RmHW13Tcf6Gp"
      },
      "source": [
        "Using list arithmetic, recombine cool_temps and warm_temps into a new\n",
        "list called temps_in_celsius"
      ]
    },
    {
      "cell_type": "code",
      "metadata": {
        "colab": {
          "base_uri": "https://localhost:8080/"
        },
        "id": "mjkwvYJbgLhJ",
        "outputId": "7f0cf549-ab18-4653-8aa1-1863c0905456"
      },
      "source": [
        "temps_in_celsius = []\n",
        "temps_in_celsius.extend(temps_cool)\n",
        "temps_in_celsius.extend(temps_hot)\n",
        "print(temps_in_celsius)"
      ],
      "execution_count": 3,
      "outputs": [
        {
          "output_type": "stream",
          "name": "stdout",
          "text": [
            "[16.8, 19.6, 22.5, 23.9, 25.2, 28, 31.4]\n"
          ]
        }
      ]
    },
    {
      "cell_type": "markdown",
      "metadata": {
        "id": "8wDVHQCxoTDl"
      },
      "source": [
        "# Chương 9\n",
        "1. Write a for loop to print all the values in the celegans_phenotypes list, one\n",
        "per line. celegans_phenotypes refers to ['Emb','Him', 'Unc', 'Lon', 'Dpy',\n",
        "'Sma']"
      ]
    },
    {
      "cell_type": "code",
      "metadata": {
        "colab": {
          "base_uri": "https://localhost:8080/"
        },
        "id": "q7PyuPAuoYDj",
        "outputId": "0f0d2018-7107-4156-e8b1-55424fff4b5a"
      },
      "source": [
        "celegans_phenotypes = ['Emb','Him', 'Unc', 'Lon', 'Dpy', 'Sma']\n",
        "for i in celegans_phenotypes:\n",
        "  print(i)"
      ],
      "execution_count": 4,
      "outputs": [
        {
          "output_type": "stream",
          "name": "stdout",
          "text": [
            "Emb\n",
            "Him\n",
            "Unc\n",
            "Lon\n",
            "Dpy\n",
            "Sma\n"
          ]
        }
      ]
    },
    {
      "cell_type": "markdown",
      "metadata": {
        "id": "zKQE8YOsobQL"
      },
      "source": [
        "3. Write a for loop to add 1 to all the values from whales, and store the\n",
        "converted values in a new list called more_whales. The whales list shouldn’t\n",
        "be modified. whales refers to [5, 4, 7, 3, 2, 3, 2, 6, 4, 2, 1, 7, 1, 3].\n"
      ]
    },
    {
      "cell_type": "code",
      "metadata": {
        "colab": {
          "base_uri": "https://localhost:8080/"
        },
        "id": "wzUjWgoipHuU",
        "outputId": "acadd8b8-8e05-47f5-a315-2a76d533bff1"
      },
      "source": [
        "whales =  [5, 4, 7, 3, 2, 3, 2, 6, 4, 2, 1, 7, 1, 3]\n",
        "more_whales = []\n",
        "for count in whales:\n",
        " more_whales.append(count + 1)\n",
        "print(more_whales)"
      ],
      "execution_count": 5,
      "outputs": [
        {
          "output_type": "stream",
          "name": "stdout",
          "text": [
            "[6, 5, 8, 4, 3, 4, 3, 7, 5, 3, 2, 8, 2, 4]\n"
          ]
        }
      ]
    },
    {
      "cell_type": "code",
      "metadata": {
        "colab": {
          "base_uri": "https://localhost:8080/"
        },
        "id": "HYUqndCUo3Zh",
        "outputId": "240aca6f-0062-4eea-8b9c-c8778ef9f8d9"
      },
      "source": [
        "whales =  [5, 4, 7, 3, 2, 3, 2, 6, 4, 2, 1, 7, 1, 3]\n",
        "for index, value in enumerate(whales):\n",
        " whales[index] = value +1\n",
        "print(whales)"
      ],
      "execution_count": 6,
      "outputs": [
        {
          "output_type": "stream",
          "name": "stdout",
          "text": [
            "[6, 5, 8, 4, 3, 4, 3, 7, 5, 3, 2, 8, 2, 4]\n"
          ]
        }
      ]
    },
    {
      "cell_type": "markdown",
      "metadata": {
        "id": "d7FHzUyfpa-7"
      },
      "source": [
        "Câu 7:Consider the following statement, which creates a list of populations of\n",
        "countries in eastern Asia (China, DPR Korea, Hong Kong, Mongolia,\n",
        "Republic of Korea, and Taiwan) in millions: country_populations = [1295,\n",
        "23, 7, 3, 47, 21]. Write a for loop that adds up all the values and stores them\n",
        "in variable total. (Hint: Give total an initial value of zero, and, inside the\n",
        "loop body, add the population of the current country to total.)"
      ]
    },
    {
      "cell_type": "code",
      "metadata": {
        "colab": {
          "base_uri": "https://localhost:8080/"
        },
        "id": "5GPkBTn4pccz",
        "outputId": "4dea4b41-ccdd-4cfa-abe9-b0c643a4b634"
      },
      "source": [
        "country_popumes = [['China',1295],['DPR Korea',23],['Hong Kong',7],['Mongolia',3],['Republic of Korea',47],['Taiwan',21]]\n",
        "total = 0\n",
        "for i in country_popumes:\n",
        "  total += i[1]\n",
        "print('Tổng dân số của các nước Đông á là: ',total)"
      ],
      "execution_count": 7,
      "outputs": [
        {
          "output_type": "stream",
          "name": "stdout",
          "text": [
            "Tổng dân số của các nước Đông á là:  1396\n"
          ]
        }
      ]
    },
    {
      "cell_type": "markdown",
      "metadata": {
        "id": "VHz12x5-phAE"
      },
      "source": [
        "Câu 8"
      ]
    },
    {
      "cell_type": "code",
      "metadata": {
        "colab": {
          "base_uri": "https://localhost:8080/"
        },
        "id": "lRffmXN7p49k",
        "outputId": "db091b26-059d-4920-8147-508739c158bf"
      },
      "source": [
        "w_rat1 = [7,2,3,6,5,9,4,6,1,9]\n",
        "w_rat2 = [6,4,6,1,6,8,3,4,5,1]\n",
        "for i in range(10):\n",
        "  if (w_rat1[i] > w_rat2[i]):\n",
        "    print(\"Rat 1 weighed more than rat 2 on day \",i+1)\n",
        "  else:\n",
        "    print(\"Rat 1 weighed less than rat 2 on day \",i+1)"
      ],
      "execution_count": 8,
      "outputs": [
        {
          "output_type": "stream",
          "name": "stdout",
          "text": [
            "Rat 1 weighed more than rat 2 on day  1\n",
            "Rat 1 weighed less than rat 2 on day  2\n",
            "Rat 1 weighed less than rat 2 on day  3\n",
            "Rat 1 weighed more than rat 2 on day  4\n",
            "Rat 1 weighed less than rat 2 on day  5\n",
            "Rat 1 weighed more than rat 2 on day  6\n",
            "Rat 1 weighed more than rat 2 on day  7\n",
            "Rat 1 weighed more than rat 2 on day  8\n",
            "Rat 1 weighed less than rat 2 on day  9\n",
            "Rat 1 weighed more than rat 2 on day  10\n"
          ]
        }
      ]
    },
    {
      "cell_type": "code",
      "metadata": {
        "colab": {
          "base_uri": "https://localhost:8080/"
        },
        "id": "TB_6aIaTp6D1",
        "outputId": "360002d4-2ede-4708-bccf-c4eb8c040ffb"
      },
      "source": [
        "w_rat1 = [7,2,3,6,5,9,4,6,1,9]\n",
        "w_rat2 = [6,4,6,1,6,8,3,4,5,1]\n",
        "for day, (wrat1, wrat2) in enumerate(zip(w_rat1, w_rat2)):\n",
        "  if wrat1 > wrat2:\n",
        "    print(\"Rat 1 weighed more than rat 2 on day \",day+1)\n",
        "  else:\n",
        "    print(\"Rat 1 weighed less than rat 2 on day \",day+1)"
      ],
      "execution_count": 9,
      "outputs": [
        {
          "output_type": "stream",
          "name": "stdout",
          "text": [
            "Rat 1 weighed more than rat 2 on day  1\n",
            "Rat 1 weighed less than rat 2 on day  2\n",
            "Rat 1 weighed less than rat 2 on day  3\n",
            "Rat 1 weighed more than rat 2 on day  4\n",
            "Rat 1 weighed less than rat 2 on day  5\n",
            "Rat 1 weighed more than rat 2 on day  6\n",
            "Rat 1 weighed more than rat 2 on day  7\n",
            "Rat 1 weighed more than rat 2 on day  8\n",
            "Rat 1 weighed less than rat 2 on day  9\n",
            "Rat 1 weighed more than rat 2 on day  10\n"
          ]
        }
      ]
    },
    {
      "cell_type": "code",
      "metadata": {
        "id": "c427CgHlqvUQ",
        "outputId": "52d1e11e-6508-495f-e16b-d4a2cbf0f6a2",
        "colab": {
          "base_uri": "https://localhost:8080/"
        }
      },
      "source": [
        "for i in range(33,50):\n",
        "  print(i)"
      ],
      "execution_count": 10,
      "outputs": [
        {
          "output_type": "stream",
          "name": "stdout",
          "text": [
            "33\n",
            "34\n",
            "35\n",
            "36\n",
            "37\n",
            "38\n",
            "39\n",
            "40\n",
            "41\n",
            "42\n",
            "43\n",
            "44\n",
            "45\n",
            "46\n",
            "47\n",
            "48\n",
            "49\n"
          ]
        }
      ]
    },
    {
      "cell_type": "code",
      "metadata": {
        "id": "0TsTnmPDqxFs",
        "outputId": "bc18b45c-6171-4dc2-aa6e-c369df426426",
        "colab": {
          "base_uri": "https://localhost:8080/"
        }
      },
      "source": [
        "for i in range(33,50):\n",
        "  print(i, end=' ')"
      ],
      "execution_count": 11,
      "outputs": [
        {
          "output_type": "stream",
          "name": "stdout",
          "text": [
            "33 34 35 36 37 38 39 40 41 42 43 44 45 46 47 48 49 "
          ]
        }
      ]
    },
    {
      "cell_type": "markdown",
      "metadata": {
        "id": "5iwbAOe-rBwF"
      },
      "source": [
        "Câu 16: format"
      ]
    },
    {
      "cell_type": "code",
      "metadata": {
        "id": "5Z9THIaHrCz_",
        "outputId": "66108dac-ed34-4f08-b924-04690b789b89",
        "colab": {
          "base_uri": "https://localhost:8080/"
        }
      },
      "source": [
        "rat_1_weight = 10\n",
        "rat_2_weight = 10\n",
        "print(\"trọng lượng khi bắt đầu thử nghiệm của rat1 là: {}kg\".format(rat_1_weight))\n",
        "print(\"trọng lượng khi bắt đầu thử nghiệm của rat2 là: {}kg\".format(rat_2_weight))"
      ],
      "execution_count": 12,
      "outputs": [
        {
          "output_type": "stream",
          "name": "stdout",
          "text": [
            "trọng lượng khi bắt đầu thử nghiệm của rat1 là: 10kg\n",
            "trọng lượng khi bắt đầu thử nghiệm của rat2 là: 10kg\n"
          ]
        }
      ]
    },
    {
      "cell_type": "code",
      "metadata": {
        "id": "aHje8qAwtHdf",
        "outputId": "679600ce-051a-4ba1-c8d2-60f412eff723",
        "colab": {
          "base_uri": "https://localhost:8080/"
        }
      },
      "source": [
        "rat_1_rate = (5/100)\n",
        "rat_2_rate = (1/100)\n",
        "w_rat=rat_1_weight\n",
        "week = 0\n",
        "while (w_rat < ((rat_1_weight)+(rat_1_weight/100*25))):\n",
        "  w_rat +=  rat_1_rate\n",
        "  week += 1\n",
        "print(\"\\n\")\n",
        "print(\"Số tuần để rat1 nặng hơn 25% so với ban đầu là: {} tuần, hiện tại rat1 nặng {}kg\".format(week,w_rat))"
      ],
      "execution_count": 13,
      "outputs": [
        {
          "output_type": "stream",
          "name": "stdout",
          "text": [
            "\n",
            "\n",
            "Số tuần để rat1 nặng hơn 25% so với ban đầu là: 50 tuần, hiện tại rat1 nặng 12.500000000000036kg\n"
          ]
        }
      ]
    },
    {
      "cell_type": "code",
      "metadata": {
        "id": "mpW9uutftK8k",
        "outputId": "467bc3ff-4c00-4b8f-f365-e9e1cb9c1ad1",
        "colab": {
          "base_uri": "https://localhost:8080/"
        }
      },
      "source": [
        "print(\"Số tuần để rat1 nặng hơn 25% so với ban đầu là: {} tuần, hiện tại rat1 nặng {:.3f}kg\".format(week,w_rat))"
      ],
      "execution_count": 14,
      "outputs": [
        {
          "output_type": "stream",
          "name": "stdout",
          "text": [
            "Số tuần để rat1 nặng hơn 25% so với ban đầu là: 50 tuần, hiện tại rat1 nặng 12.500kg\n"
          ]
        }
      ]
    },
    {
      "cell_type": "code",
      "metadata": {
        "id": "VJrNnyQptkWJ",
        "outputId": "0abb056e-b51e-4378-ca0f-9c6c3f6f452d",
        "colab": {
          "base_uri": "https://localhost:8080/",
          "height": 36
        }
      },
      "source": [
        "# make the total string size AT LEAST 9 (including digits and points), fill with zeros to the left\n",
        "'{:0>9}'.format(3.499)"
      ],
      "execution_count": 15,
      "outputs": [
        {
          "output_type": "execute_result",
          "data": {
            "application/vnd.google.colaboratory.intrinsic+json": {
              "type": "string"
            },
            "text/plain": [
              "'00003.499'"
            ]
          },
          "metadata": {},
          "execution_count": 15
        }
      ]
    },
    {
      "cell_type": "code",
      "metadata": {
        "id": "g_yxlKQ4tnqw",
        "outputId": "b877b554-4367-40db-91e5-9ffd8c41fcd8",
        "colab": {
          "base_uri": "https://localhost:8080/",
          "height": 36
        }
      },
      "source": [
        "'{:0>7}'.format(3.499)"
      ],
      "execution_count": 16,
      "outputs": [
        {
          "output_type": "execute_result",
          "data": {
            "application/vnd.google.colaboratory.intrinsic+json": {
              "type": "string"
            },
            "text/plain": [
              "'003.499'"
            ]
          },
          "metadata": {},
          "execution_count": 16
        }
      ]
    },
    {
      "cell_type": "code",
      "metadata": {
        "id": "40LDyDqgt-72",
        "outputId": "82f7a37a-bbb6-49ff-d47c-58c9a48270db",
        "colab": {
          "base_uri": "https://localhost:8080/",
          "height": 36
        }
      },
      "source": [
        "'{:0>2}'.format(3)"
      ],
      "execution_count": 17,
      "outputs": [
        {
          "output_type": "execute_result",
          "data": {
            "application/vnd.google.colaboratory.intrinsic+json": {
              "type": "string"
            },
            "text/plain": [
              "'03'"
            ]
          },
          "metadata": {},
          "execution_count": 17
        }
      ]
    },
    {
      "cell_type": "code",
      "metadata": {
        "id": "8wSQCKsUuGJe",
        "outputId": "8d16dd8d-1b27-40a4-c9f0-90768b2a5a01",
        "colab": {
          "base_uri": "https://localhost:8080/",
          "height": 36
        }
      },
      "source": [
        "'{:<011}'.format(3.499)"
      ],
      "execution_count": 18,
      "outputs": [
        {
          "output_type": "execute_result",
          "data": {
            "application/vnd.google.colaboratory.intrinsic+json": {
              "type": "string"
            },
            "text/plain": [
              "'3.499000000'"
            ]
          },
          "metadata": {},
          "execution_count": 18
        }
      ]
    },
    {
      "cell_type": "code",
      "metadata": {
        "id": "W4ws_KYouJH3",
        "outputId": "a5a2a4ec-a841-4b2c-8f15-6c3e2486d28e",
        "colab": {
          "base_uri": "https://localhost:8080/",
          "height": 36
        }
      },
      "source": [
        "\"{:,}\".format(100000)"
      ],
      "execution_count": 19,
      "outputs": [
        {
          "output_type": "execute_result",
          "data": {
            "application/vnd.google.colaboratory.intrinsic+json": {
              "type": "string"
            },
            "text/plain": [
              "'100,000'"
            ]
          },
          "metadata": {},
          "execution_count": 19
        }
      ]
    },
    {
      "cell_type": "markdown",
      "metadata": {
        "id": "L5y3_3R1uROW"
      },
      "source": [
        "Interpolate variable with f-strings"
      ]
    },
    {
      "cell_type": "code",
      "metadata": {
        "id": "8fW-MaEiuRxl",
        "outputId": "cd896da3-ed60-40ac-cea8-5b397b5939e7",
        "colab": {
          "base_uri": "https://localhost:8080/",
          "height": 36
        }
      },
      "source": [
        "num = 1.12745\n",
        "\n",
        "formatted = f\"{num:.2f}\"\n",
        "formatted"
      ],
      "execution_count": 20,
      "outputs": [
        {
          "output_type": "execute_result",
          "data": {
            "application/vnd.google.colaboratory.intrinsic+json": {
              "type": "string"
            },
            "text/plain": [
              "'1.13'"
            ]
          },
          "metadata": {},
          "execution_count": 20
        }
      ]
    },
    {
      "cell_type": "code",
      "metadata": {
        "id": "X3p4Wb3ducvP",
        "outputId": "0f01490e-b946-436e-8b22-d9caa317abe0",
        "colab": {
          "base_uri": "https://localhost:8080/",
          "height": 36
        }
      },
      "source": [
        "a = 10\n",
        "b = 23\n",
        "\"{0}-{1}\".format(a,b)"
      ],
      "execution_count": 21,
      "outputs": [
        {
          "output_type": "execute_result",
          "data": {
            "application/vnd.google.colaboratory.intrinsic+json": {
              "type": "string"
            },
            "text/plain": [
              "'10-23'"
            ]
          },
          "metadata": {},
          "execution_count": 21
        }
      ]
    }
  ]
}