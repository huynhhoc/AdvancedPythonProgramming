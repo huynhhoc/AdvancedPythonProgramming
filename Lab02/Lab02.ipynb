{
  "nbformat": 4,
  "nbformat_minor": 0,
  "metadata": {
    "colab": {
      "name": "Lab02.ipynb",
      "provenance": [],
      "authorship_tag": "ABX9TyPXwyk8k08WoovR8gnsrOew",
      "include_colab_link": true
    },
    "kernelspec": {
      "name": "python3",
      "display_name": "Python 3"
    },
    "language_info": {
      "name": "python"
    }
  },
  "cells": [
    {
      "cell_type": "markdown",
      "metadata": {
        "id": "view-in-github",
        "colab_type": "text"
      },
      "source": [
        "<a href=\"https://colab.research.google.com/github/huynhhoc/AdvancedPythonProgramming/blob/main/Lab02/Lab02.ipynb\" target=\"_parent\"><img src=\"https://colab.research.google.com/assets/colab-badge.svg\" alt=\"Open In Colab\"/></a>"
      ]
    },
    {
      "cell_type": "markdown",
      "metadata": {
        "id": "ALTudKCMei_J"
      },
      "source": [
        "# Chương 8\n",
        "Câu 4"
      ]
    },
    {
      "cell_type": "code",
      "metadata": {
        "id": "aaKUoJ3heong"
      },
      "source": [
        "ids = [4353, 2314, 2956, 3382, 9362, 3900]\n",
        "ids.remove(3382)\n",
        "print(ids)\n",
        "index1=ids.index(9362)\n",
        "print(index1)\n",
        "ids.insert(4,4499)\n",
        "print(ids)\n",
        "list2 = [5566,1830]\n",
        "ids.extend(list2)\n",
        "print(ids)\n",
        "ids.reverse() # dao nguoc\n",
        "print(ids)\n",
        "ids.sort() # sap xep\n",
        "print(ids)"
      ],
      "execution_count": null,
      "outputs": []
    }
  ]
}