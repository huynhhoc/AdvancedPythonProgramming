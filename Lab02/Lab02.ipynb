{
  "nbformat": 4,
  "nbformat_minor": 0,
  "metadata": {
    "colab": {
      "name": "Lab02.ipynb",
      "provenance": [],
      "authorship_tag": "ABX9TyPH4oXM5rlsuqz2iJRgw2vD",
      "include_colab_link": true
    },
    "kernelspec": {
      "name": "python3",
      "display_name": "Python 3"
    },
    "language_info": {
      "name": "python"
    }
  },
  "cells": [
    {
      "cell_type": "markdown",
      "metadata": {
        "id": "view-in-github",
        "colab_type": "text"
      },
      "source": [
        "<a href=\"https://colab.research.google.com/github/huynhhoc/AdvancedPythonProgramming/blob/main/Lab02/Lab02.ipynb\" target=\"_parent\"><img src=\"https://colab.research.google.com/assets/colab-badge.svg\" alt=\"Open In Colab\"/></a>"
      ]
    },
    {
      "cell_type": "markdown",
      "metadata": {
        "id": "ALTudKCMei_J"
      },
      "source": [
        "# Chương 8\n",
        "Câu 4\n",
        "Insert 4499 in the list after 9362"
      ]
    },
    {
      "cell_type": "code",
      "metadata": {
        "id": "aaKUoJ3heong"
      },
      "source": [
        "ids = [4353, 2314, 2956, 3382, 9362, 3900]\n",
        "ids.remove(3382)\n",
        "print(ids)\n",
        "index1=ids.index(9362)\n",
        "print(index1)\n",
        "ids.insert(4,4499)\n",
        "print(ids)\n",
        "list2 = [5566,1830]\n",
        "ids.extend(list2)\n",
        "print(ids)\n",
        "ids.reverse() # dao nguoc\n",
        "print(ids)\n",
        "ids.sort() # sap xep\n",
        "print(ids)"
      ],
      "execution_count": null,
      "outputs": []
    },
    {
      "cell_type": "markdown",
      "metadata": {
        "id": "jK0-XZKsfaY2"
      },
      "source": [
        "Câu 6: Using slicing, create two new lists, cool_temps and warm_temps, which\n",
        "contain the temperatures below and above 20 degrees Celsius, respectively"
      ]
    },
    {
      "cell_type": "code",
      "metadata": {
        "id": "dRtUX6t2f33E"
      },
      "source": [
        "temps = [25.2,16.8, 31.4, 23.9, 28, 22.5,19.6]\n",
        "temps.sort()\n",
        "print(temps)\n",
        "temps_hot= []\n",
        "temps_cool = []\n",
        "for i in temps:\n",
        "  if (i> 20):\n",
        "    temps_hot.append(i)\n",
        "  if (i<20):\n",
        "    temps_cool.append(i)\n",
        "\n",
        "print(temps_hot)\n",
        "print(temps_cool)"
      ],
      "execution_count": null,
      "outputs": []
    },
    {
      "cell_type": "markdown",
      "metadata": {
        "id": "RmHW13Tcf6Gp"
      },
      "source": [
        "Using list arithmetic, recombine cool_temps and warm_temps into a new\n",
        "list called temps_in_celsius"
      ]
    },
    {
      "cell_type": "code",
      "metadata": {
        "id": "mjkwvYJbgLhJ"
      },
      "source": [
        "temps_in_celsius = []\n",
        "temps_in_celsius.extend(temps_cool)\n",
        "temps_in_celsius.extend(temps_hot)\n",
        "print(temps_in_celsius)"
      ],
      "execution_count": null,
      "outputs": []
    },
    {
      "cell_type": "markdown",
      "metadata": {
        "id": "8wDVHQCxoTDl"
      },
      "source": [
        "# Chương 9\n",
        "1. Write a for loop to print all the values in the celegans_phenotypes list, one\n",
        "per line. celegans_phenotypes refers to ['Emb','Him', 'Unc', 'Lon', 'Dpy',\n",
        "'Sma']"
      ]
    },
    {
      "cell_type": "code",
      "metadata": {
        "id": "q7PyuPAuoYDj"
      },
      "source": [
        "celegans_phenotypes = ['Emb','Him', 'Unc', 'Lon', 'Dpy', 'Sma']\n",
        "for i in celegans_phenotypes:\n",
        "  print(i)"
      ],
      "execution_count": null,
      "outputs": []
    },
    {
      "cell_type": "markdown",
      "metadata": {
        "id": "zKQE8YOsobQL"
      },
      "source": [
        "3. Write a for loop to add 1 to all the values from whales, and store the\n",
        "converted values in a new list called more_whales. The whales list shouldn’t\n",
        "be modified. whales refers to [5, 4, 7, 3, 2, 3, 2, 6, 4, 2, 1, 7, 1, 3].\n"
      ]
    },
    {
      "cell_type": "code",
      "metadata": {
        "id": "wzUjWgoipHuU"
      },
      "source": [
        "whales =  [5, 4, 7, 3, 2, 3, 2, 6, 4, 2, 1, 7, 1, 3]\n",
        "more_whales = []\n",
        "for count in whales:\n",
        " more_whales.append(count + 1)\n",
        "print(more_whales)"
      ],
      "execution_count": null,
      "outputs": []
    },
    {
      "cell_type": "code",
      "metadata": {
        "id": "HYUqndCUo3Zh",
        "outputId": "38e80f2e-6d8f-4f3b-cd59-549d01c67fb4",
        "colab": {
          "base_uri": "https://localhost:8080/"
        }
      },
      "source": [
        "whales =  [5, 4, 7, 3, 2, 3, 2, 6, 4, 2, 1, 7, 1, 3]\n",
        "for index, value in enumerate(whales):\n",
        " whales[index] = value +1\n",
        "print(whales)"
      ],
      "execution_count": 1,
      "outputs": [
        {
          "output_type": "stream",
          "name": "stdout",
          "text": [
            "[6, 5, 8, 4, 3, 4, 3, 7, 5, 3, 2, 8, 2, 4]\n"
          ]
        }
      ]
    },
    {
      "cell_type": "markdown",
      "metadata": {
        "id": "d7FHzUyfpa-7"
      },
      "source": [
        "Câu 7:Consider the following statement, which creates a list of populations of\n",
        "countries in eastern Asia (China, DPR Korea, Hong Kong, Mongolia,\n",
        "Republic of Korea, and Taiwan) in millions: country_populations = [1295,\n",
        "23, 7, 3, 47, 21]. Write a for loop that adds up all the values and stores them\n",
        "in variable total. (Hint: Give total an initial value of zero, and, inside the\n",
        "loop body, add the population of the current country to total.)"
      ]
    },
    {
      "cell_type": "code",
      "metadata": {
        "id": "5GPkBTn4pccz"
      },
      "source": [
        "country_popumes = [['China',1295],['DPR Korea',23],['Hong Kong',7],['Mongolia',3],['Republic of Korea',47],['Taiwan',21]]\n",
        "total = 0\n",
        "for i in country_popumes:\n",
        "  total += i[1]\n",
        "print('Tổng dân số của các nước Đông á là: ',total)"
      ],
      "execution_count": null,
      "outputs": []
    },
    {
      "cell_type": "markdown",
      "metadata": {
        "id": "VHz12x5-phAE"
      },
      "source": [
        "Câu 8"
      ]
    },
    {
      "cell_type": "code",
      "metadata": {
        "id": "lRffmXN7p49k",
        "outputId": "0b4281a2-8ee2-4c91-b9ef-eb11986fa339",
        "colab": {
          "base_uri": "https://localhost:8080/"
        }
      },
      "source": [
        "w_rat1 = [7,2,3,6,5,9,4,6,1,9]\n",
        "w_rat2 = [6,4,6,1,6,8,3,4,5,1]\n",
        "for i in range(10):\n",
        "  if (w_rat1[i] > w_rat2[i]):\n",
        "    print(\"Rat 1 weighed more than rat 2 on day \",i+1)\n",
        "  else:\n",
        "    print(\"Rat 1 weighed less than rat 2 on day \",i+1)"
      ],
      "execution_count": 2,
      "outputs": [
        {
          "output_type": "stream",
          "name": "stdout",
          "text": [
            "Rat 1 weighed more than rat 2 on day  1\n",
            "Rat 1 weighed less than rat 2 on day  2\n",
            "Rat 1 weighed less than rat 2 on day  3\n",
            "Rat 1 weighed more than rat 2 on day  4\n",
            "Rat 1 weighed less than rat 2 on day  5\n",
            "Rat 1 weighed more than rat 2 on day  6\n",
            "Rat 1 weighed more than rat 2 on day  7\n",
            "Rat 1 weighed more than rat 2 on day  8\n",
            "Rat 1 weighed less than rat 2 on day  9\n",
            "Rat 1 weighed more than rat 2 on day  10\n"
          ]
        }
      ]
    },
    {
      "cell_type": "code",
      "metadata": {
        "id": "TB_6aIaTp6D1",
        "outputId": "9f610219-07d1-47fc-959b-32b1b4bed534",
        "colab": {
          "base_uri": "https://localhost:8080/"
        }
      },
      "source": [
        "w_rat1 = [7,2,3,6,5,9,4,6,1,9]\n",
        "w_rat2 = [6,4,6,1,6,8,3,4,5,1]\n",
        "for day, (wrat1, wrat2) in enumerate(zip(w_rat1, w_rat2)):\n",
        "  if wrat1 > wrat2:\n",
        "    print(\"Rat 1 weighed more than rat 2 on day \",day+1)\n",
        "  else:\n",
        "    print(\"Rat 1 weighed less than rat 2 on day \",day+1)"
      ],
      "execution_count": 5,
      "outputs": [
        {
          "output_type": "stream",
          "name": "stdout",
          "text": [
            "Rat 1 weighed more than rat 2 on day  1\n",
            "Rat 1 weighed less than rat 2 on day  2\n",
            "Rat 1 weighed less than rat 2 on day  3\n",
            "Rat 1 weighed more than rat 2 on day  4\n",
            "Rat 1 weighed less than rat 2 on day  5\n",
            "Rat 1 weighed more than rat 2 on day  6\n",
            "Rat 1 weighed more than rat 2 on day  7\n",
            "Rat 1 weighed more than rat 2 on day  8\n",
            "Rat 1 weighed less than rat 2 on day  9\n",
            "Rat 1 weighed more than rat 2 on day  10\n"
          ]
        }
      ]
    }
  ]
}