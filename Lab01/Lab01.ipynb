{
  "nbformat": 4,
  "nbformat_minor": 0,
  "metadata": {
    "colab": {
      "name": "Lab01.ipynb",
      "provenance": [],
      "authorship_tag": "ABX9TyM7InWQP4DBeqKmA0ppWWM4",
      "include_colab_link": true
    },
    "kernelspec": {
      "name": "python3",
      "display_name": "Python 3"
    },
    "language_info": {
      "name": "python"
    }
  },
  "cells": [
    {
      "cell_type": "markdown",
      "metadata": {
        "id": "view-in-github",
        "colab_type": "text"
      },
      "source": [
        "<a href=\"https://colab.research.google.com/github/huynhhoc/AdvancedPythonProgramming/blob/main/Lab01/Lab01.ipynb\" target=\"_parent\"><img src=\"https://colab.research.google.com/assets/colab-badge.svg\" alt=\"Open In Colab\"/></a>"
      ]
    },
    {
      "cell_type": "code",
      "metadata": {
        "colab": {
          "base_uri": "https://localhost:8080/"
        },
        "id": "mMBNDZDMCIkJ",
        "outputId": "4a40ed7a-e35a-4305-fbd1-66b578c9e031"
      },
      "source": [
        "min(2,3,4)"
      ],
      "execution_count": null,
      "outputs": [
        {
          "output_type": "execute_result",
          "data": {
            "text/plain": [
              "2"
            ]
          },
          "metadata": {},
          "execution_count": 1
        }
      ]
    },
    {
      "cell_type": "markdown",
      "metadata": {
        "id": "GPVHKDLdCWaG"
      },
      "source": [
        "Bai thu 2"
      ]
    },
    {
      "cell_type": "code",
      "metadata": {
        "colab": {
          "base_uri": "https://localhost:8080/"
        },
        "id": "bNdIUw4lCZKT",
        "outputId": "0aad1ab2-b061-4622-854c-510afd28fd35"
      },
      "source": [
        "max(2, -3, 4, 7, -5)"
      ],
      "execution_count": null,
      "outputs": [
        {
          "output_type": "execute_result",
          "data": {
            "text/plain": [
              "7"
            ]
          },
          "metadata": {},
          "execution_count": 2
        }
      ]
    },
    {
      "cell_type": "code",
      "metadata": {
        "colab": {
          "base_uri": "https://localhost:8080/"
        },
        "id": "ypxJcHKQDAWp",
        "outputId": "55a7a0ec-45f2-44f9-ac86-7cae891be347"
      },
      "source": [
        "min (2,4,-8)"
      ],
      "execution_count": null,
      "outputs": [
        {
          "output_type": "execute_result",
          "data": {
            "text/plain": [
              "-8"
            ]
          },
          "metadata": {},
          "execution_count": 3
        }
      ]
    },
    {
      "cell_type": "markdown",
      "metadata": {
        "id": "i1tOL1-7DHWk"
      },
      "source": [
        ""
      ]
    },
    {
      "cell_type": "code",
      "metadata": {
        "id": "QfucKBjKMFot"
      },
      "source": [
        "def triple(num):\n",
        "  \"\"\" (number) -> number\n",
        "  Return num tripled.\n",
        "  >>> triple(3)\n",
        "  9\n",
        "  \"\"\"\n",
        "  return num * 3\n"
      ],
      "execution_count": 1,
      "outputs": []
    }
  ]
}